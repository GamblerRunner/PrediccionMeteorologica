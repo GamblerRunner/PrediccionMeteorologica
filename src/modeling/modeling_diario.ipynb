{
 "cells": [
  {
   "cell_type": "code",
   "execution_count": null,
   "metadata": {},
   "outputs": [],
   "source": [
    "# docker run -p 8888:8888 -p 4040:4040 -v \"%cd%:/home/jovyan/work\" quay.io/jupyter/pyspark-notebook"
   ]
  },
  {
   "cell_type": "code",
   "execution_count": 40,
   "metadata": {},
   "outputs": [],
   "source": [
    "from pyspark.sql import SparkSession\n",
    "from pyspark.sql.window import Window\n",
    "import pyspark.sql.functions as F"
   ]
  },
  {
   "cell_type": "code",
   "execution_count": 41,
   "metadata": {},
   "outputs": [
    {
     "name": "stdout",
     "output_type": "stream",
     "text": [
      "+----+-----+\n",
      "|anho|count|\n",
      "+----+-----+\n",
      "|2023| 8760|\n",
      "|2022| 8760|\n",
      "|2020| 8784|\n",
      "|2021| 8760|\n",
      "|2019| 8760|\n",
      "|2024| 8784|\n",
      "|2025| 1393|\n",
      "+----+-----+\n",
      "\n"
     ]
    }
   ],
   "source": [
    "spark = SparkSession.builder.appName(\"SeriesTemporales\").getOrCreate()\n",
    "# Leer archivo Parquet\n",
    "df = spark.read.parquet(\"../../data/transformed/madrid_data/parquet/\")\n",
    "df = df.orderBy([\"fecha\", \"hora\"])\n",
    "# Mostrar datos\n",
    "df.groupBy(\"anho\").count().show()"
   ]
  },
  {
   "cell_type": "code",
   "execution_count": 42,
   "metadata": {},
   "outputs": [],
   "source": [
    "# Definir ventana para obtener las 3 horas anteriores\n",
    "window_lag = Window.partitionBy(\"indicativo\", \"anho\", \"mes\", \"dia\").orderBy(\"hora\")\n",
    "\n",
    "# Agregar columnas de las 3 horas previas\n",
    "df = df.withColumn(\"humedad_hora_1\", F.lag(\"humedad_media\", 1).over(window_lag)) \\\n",
    "       .withColumn(\"humedad_hora_2\", F.lag(\"humedad_media\", 2).over(window_lag)) \\\n",
    "       .withColumn(\"humedad_hora_3\", F.lag(\"humedad_media\", 3).over(window_lag)) \\\n",
    "       .withColumn(\"temp_hora_1\", F.lag(\"temperatura_media\", 1).over(window_lag)) \\\n",
    "       .withColumn(\"temp_hora_2\", F.lag(\"temperatura_media\", 2).over(window_lag)) \\\n",
    "       .withColumn(\"temp_hora_3\", F.lag(\"temperatura_media\", 3).over(window_lag))"
   ]
  },
  {
   "cell_type": "code",
   "execution_count": 43,
   "metadata": {},
   "outputs": [],
   "source": [
    "# Calcular temperatura general por hora, día y mes en todo el DataFrame\n",
    "df_temp_stats = df.groupBy(\"hora\", \"dia\", \"mes\").agg(\n",
    "    F.avg(\"temperatura_media\").alias(\"temp_media_general\"),\n",
    "    F.min(\"temperatura_media\").alias(\"temp_min_general\"),\n",
    "    F.max(\"temperatura_media\").alias(\"temp_max_general\")\n",
    ")\n",
    "# Unir las estadísticas generales al DataFrame original\n",
    "df = df.join(df_temp_stats, on=[\"hora\", \"dia\", \"mes\"], how=\"left\")"
   ]
  },
  {
   "cell_type": "code",
   "execution_count": 44,
   "metadata": {},
   "outputs": [],
   "source": [
    "# Calcular temperatura general por hora, día y mes en todo el DataFrame\n",
    "df_humidity_stats = df.groupBy(\"hora\", \"dia\", \"mes\").agg(\n",
    "    F.avg(\"humedad_media\").alias(\"humedad_media_general\"),\n",
    "    F.min(\"humedad_media\").alias(\"humedad_min_general\"),\n",
    "    F.max(\"humedad_media\").alias(\"humedad_max_general\")\n",
    ")\n",
    "# Unir las estadísticas generales al DataFrame original\n",
    "df = df.join(df_humidity_stats, on=[\"hora\", \"dia\", \"mes\"], how=\"left\")"
   ]
  },
  {
   "cell_type": "code",
   "execution_count": 45,
   "metadata": {},
   "outputs": [
    {
     "name": "stdout",
     "output_type": "stream",
     "text": [
      "+----+---+---+----------+-------------+-----------------+----------+----+--------------+--------------+--------------+-----------+-----------+-----------+------------------+----------------+----------------+---------------------+-------------------+-------------------+\n",
      "|hora|dia|mes|fecha     |humedad_media|temperatura_media|indicativo|anho|humedad_hora_1|humedad_hora_2|humedad_hora_3|temp_hora_1|temp_hora_2|temp_hora_3|temp_media_general|temp_min_general|temp_max_general|humedad_media_general|humedad_min_general|humedad_max_general|\n",
      "+----+---+---+----------+-------------+-----------------+----------+----+--------------+--------------+--------------+-----------+-----------+-----------+------------------+----------------+----------------+---------------------+-------------------+-------------------+\n",
      "|0   |1  |1  |2019-01-01|50.0         |3.1              |102       |2019|NULL          |NULL          |NULL          |NULL       |NULL       |NULL       |3.4285714285714284|0.6             |6.9             |72.0                 |50.0               |89.0               |\n",
      "|1   |1  |1  |2019-01-01|49.0         |2.9              |102       |2019|50.0          |NULL          |NULL          |3.1        |NULL       |NULL       |3.0               |0.6             |6.3             |72.0                 |49.0               |84.0               |\n",
      "|10  |1  |1  |2019-01-01|47.0         |3.1              |102       |2019|49.0          |50.0          |NULL          |2.9        |3.1        |NULL       |3.9857142857142853|1.9             |8.6             |60.67142857142857    |47.0               |78.0               |\n",
      "|11  |1  |1  |2019-01-01|39.0         |5.5              |102       |2019|47.0          |49.0          |50.0          |3.1        |2.9        |3.1        |5.571428571428571 |3.1             |9.6             |55.32857142857143    |39.0               |75.0               |\n",
      "|12  |1  |1  |2019-01-01|34.0         |7.8              |102       |2019|39.0          |47.0          |49.0          |5.5        |3.1        |2.9        |7.128571428571428 |11.6            |7.8             |51.0                 |34.0               |75.0               |\n",
      "|13  |1  |1  |2019-01-01|31.0         |10.1             |102       |2019|34.0          |39.0          |47.0          |7.8        |5.5        |3.1        |8.142857142857142 |10.1            |8.7             |48.82857142857143    |31.0               |77.0               |\n",
      "|14  |1  |1  |2019-01-01|33.0         |10.4             |102       |2019|31.0          |34.0          |39.0          |10.1       |7.8        |5.5        |8.914285714285715 |10.4            |9.1             |47.0                 |31.0               |63.0               |\n",
      "|15  |1  |1  |2019-01-01|30.0         |11.9             |102       |2019|33.0          |31.0          |34.0          |10.4       |10.1       |7.8        |9.37142857142857  |11.9            |9.4             |46.82857142857143    |27.0               |62.0               |\n",
      "|16  |1  |1  |2019-01-01|35.0         |10.1             |102       |2019|30.0          |33.0          |31.0          |11.9       |10.4       |10.1       |8.828571428571427 |10.1            |8.8             |47.67142857142857    |28.0               |60.0               |\n",
      "|17  |1  |1  |2019-01-01|38.0         |8.5              |102       |2019|35.0          |30.0          |33.0          |10.1       |11.9       |10.4       |7.571428571428571 |14.7            |8.5             |51.67142857142857    |32.0               |67.0               |\n",
      "|18  |1  |1  |2019-01-01|39.0         |7.7              |102       |2019|38.0          |35.0          |30.0          |8.5        |10.1       |11.9       |6.6428571428571415|1.7             |7.7             |54.5                 |34.0               |73.0               |\n",
      "|19  |1  |1  |2019-01-01|43.0         |7.1              |102       |2019|39.0          |38.0          |35.0          |7.7        |8.5        |10.1       |6.142857142857143 |1.1             |7.1             |57.0                 |34.0               |73.0               |\n",
      "|2   |1  |1  |2019-01-01|46.0         |3.1              |102       |2019|43.0          |39.0          |38.0          |7.1        |7.7        |8.5        |2.8428571428571425|0.4             |5.5             |71.32857142857144    |46.0               |84.0               |\n",
      "|20  |1  |1  |2019-01-01|47.0         |6.6              |102       |2019|46.0          |43.0          |39.0          |3.1        |7.1        |7.7        |5.6428571428571415|1.0             |6.6             |61.5                 |43.0               |80.0               |\n",
      "|21  |1  |1  |2019-01-01|49.0         |5.8              |102       |2019|47.0          |46.0          |43.0          |6.6        |3.1        |7.1        |4.814285714285715 |0.5             |5.8             |65.82857142857144    |49.0               |84.0               |\n",
      "|22  |1  |1  |2019-01-01|54.0         |4.1              |102       |2019|49.0          |47.0          |46.0          |5.8        |6.6        |3.1        |3.842857142857143 |-0.4            |9.3             |69.82857142857144    |53.0               |87.0               |\n",
      "|23  |1  |1  |2019-01-01|55.0         |3.4              |102       |2019|54.0          |49.0          |47.0          |4.1        |5.8        |6.6        |3.371428571428571 |-0.6            |8.6             |69.5                 |52.0               |87.0               |\n",
      "|3   |1  |1  |2019-01-01|51.0         |1.9              |102       |2019|55.0          |54.0          |49.0          |3.4        |4.1        |5.8        |2.4               |0.0             |5.5             |72.17142857142856    |51.0               |83.0               |\n",
      "|4   |1  |1  |2019-01-01|56.0         |0.7              |102       |2019|51.0          |55.0          |54.0          |1.9        |3.4        |4.1        |1.7714285714285716|-0.1            |4.7             |74.0                 |56.0               |83.0               |\n",
      "|5   |1  |1  |2019-01-01|53.0         |0.5              |102       |2019|56.0          |51.0          |55.0          |0.7        |1.9        |3.4        |1.6142857142857143|-0.5            |4.8             |72.32857142857144    |53.0               |81.0               |\n",
      "+----+---+---+----------+-------------+-----------------+----------+----+--------------+--------------+--------------+-----------+-----------+-----------+------------------+----------------+----------------+---------------------+-------------------+-------------------+\n",
      "only showing top 20 rows\n",
      "\n"
     ]
    }
   ],
   "source": [
    "df.show(20, truncate=False)"
   ]
  },
  {
   "cell_type": "code",
   "execution_count": 46,
   "metadata": {},
   "outputs": [],
   "source": [
    "from statsmodels.tsa.arima.model import ARIMA"
   ]
  },
  {
   "cell_type": "code",
   "execution_count": 47,
   "metadata": {},
   "outputs": [],
   "source": [
    "df_pandas = df.toPandas()"
   ]
  },
  {
   "cell_type": "code",
   "execution_count": 48,
   "metadata": {},
   "outputs": [
    {
     "name": "stderr",
     "output_type": "stream",
     "text": [
      "/opt/conda/lib/python3.12/site-packages/statsmodels/tsa/base/tsa_model.py:473: ValueWarning: An unsupported index was provided. As a result, forecasts cannot be generated. To use the model for forecasting, use one of the supported classes of index.\n",
      "  self._init_dates(dates, freq)\n",
      "/opt/conda/lib/python3.12/site-packages/statsmodels/tsa/base/tsa_model.py:473: ValueWarning: An unsupported index was provided. As a result, forecasts cannot be generated. To use the model for forecasting, use one of the supported classes of index.\n",
      "  self._init_dates(dates, freq)\n",
      "/opt/conda/lib/python3.12/site-packages/statsmodels/tsa/base/tsa_model.py:473: ValueWarning: An unsupported index was provided. As a result, forecasts cannot be generated. To use the model for forecasting, use one of the supported classes of index.\n",
      "  self._init_dates(dates, freq)\n",
      "/opt/conda/lib/python3.12/site-packages/statsmodels/tsa/statespace/sarimax.py:966: UserWarning: Non-stationary starting autoregressive parameters found. Using zeros as starting parameters.\n",
      "  warn('Non-stationary starting autoregressive parameters'\n",
      "/opt/conda/lib/python3.12/site-packages/statsmodels/base/model.py:607: ConvergenceWarning: Maximum Likelihood optimization failed to converge. Check mle_retvals\n",
      "  warnings.warn(\"Maximum Likelihood optimization failed to \"\n"
     ]
    },
    {
     "name": "stdout",
     "output_type": "stream",
     "text": [
      "                               SARIMAX Results                                \n",
      "==============================================================================\n",
      "Dep. Variable:      temperatura_media   No. Observations:                47250\n",
      "Model:                 ARIMA(2, 0, 1)   Log Likelihood              -87261.507\n",
      "Date:                Sat, 08 Mar 2025   AIC                         174545.013\n",
      "Time:                        23:50:18   BIC                         174641.409\n",
      "Sample:                             0   HQIC                        174575.288\n",
      "                              - 47250                                         \n",
      "Covariance Type:                  opg                                         \n",
      "======================================================================================\n",
      "                         coef    std err          z      P>|z|      [0.025      0.975]\n",
      "--------------------------------------------------------------------------------------\n",
      "const                 -0.9579      0.102     -9.411      0.000      -1.157      -0.758\n",
      "temp_hora_1            0.0184      0.002      8.163      0.000       0.014       0.023\n",
      "temp_hora_2            0.0520      0.002     29.816      0.000       0.049       0.055\n",
      "temp_hora_3            0.0402      0.002     22.100      0.000       0.037       0.044\n",
      "temp_media_general     0.9477      0.004    221.798      0.000       0.939       0.956\n",
      "temp_min_general       0.0081      0.001      5.720      0.000       0.005       0.011\n",
      "temp_max_general       0.0023      0.002      0.956      0.339      -0.002       0.007\n",
      "ar.L1                  1.3500      0.010    136.887      0.000       1.331       1.369\n",
      "ar.L2                 -0.3794      0.009    -43.529      0.000      -0.397      -0.362\n",
      "ma.L1                 -0.6902      0.009    -80.796      0.000      -0.707      -0.673\n",
      "sigma2                 2.3519      0.005    441.243      0.000       2.341       2.362\n",
      "===================================================================================\n",
      "Ljung-Box (L1) (Q):                   6.45   Jarque-Bera (JB):           6734532.81\n",
      "Prob(Q):                              0.01   Prob(JB):                         0.00\n",
      "Heteroskedasticity (H):               0.96   Skew:                            -1.82\n",
      "Prob(H) (two-sided):                  0.01   Kurtosis:                        61.37\n",
      "===================================================================================\n",
      "\n",
      "Warnings:\n",
      "[1] Covariance matrix calculated using the outer product of gradients (complex-step).\n",
      "47250    5.290530\n",
      "47251    4.824117\n",
      "47252    4.470928\n",
      "47253    2.422897\n",
      "47254    2.061823\n",
      "47255    1.484680\n",
      "47256    1.258762\n",
      "47257    1.125252\n",
      "47258    1.198630\n",
      "47259    1.815583\n",
      "Name: predicted_mean, dtype: float64\n"
     ]
    },
    {
     "name": "stderr",
     "output_type": "stream",
     "text": [
      "/opt/conda/lib/python3.12/site-packages/statsmodels/tsa/base/tsa_model.py:837: ValueWarning: No supported index is available. Prediction results will be given with an integer index beginning at `start`.\n",
      "  return get_prediction_index(\n",
      "/opt/conda/lib/python3.12/site-packages/statsmodels/tsa/base/tsa_model.py:837: FutureWarning: No supported index is available. In the next version, calling this method in a model without a supported index will result in an exception.\n",
      "  return get_prediction_index(\n"
     ]
    }
   ],
   "source": [
    "# Variables exógenas\n",
    "exog_variables = ['temp_hora_1', 'temp_hora_2', 'temp_hora_3', 'temp_media_general', 'temp_min_general', 'temp_max_general']\n",
    "\n",
    "# Eliminar valores nulos o rellenar\n",
    "df_pandas_clean = df_pandas.dropna(subset=exog_variables + ['temperatura_media'])\n",
    "X = df_pandas_clean[exog_variables]\n",
    "y = df_pandas_clean['temperatura_media']\n",
    "\n",
    "# Asegurarse de que los datos sean numéricos\n",
    "X = X.astype(float)\n",
    "y = y.astype(float)\n",
    "\n",
    "# Ajustar el modelo ARIMAX\n",
    "arimax_model = ARIMA(y, exog=X, order=(2, 0, 1))\n",
    "arimax_result = arimax_model.fit()\n",
    "\n",
    "# Resumen del modelo\n",
    "print(arimax_result.summary())\n",
    "\n",
    "# Realizar pronósticos (usando las últimas filas de las variables exógenas)\n",
    "forecast = arimax_result.forecast(steps=10, exog=X.tail(10))\n",
    "print(forecast)"
   ]
  },
  {
   "cell_type": "code",
   "execution_count": 49,
   "metadata": {},
   "outputs": [
    {
     "name": "stderr",
     "output_type": "stream",
     "text": [
      "/opt/conda/lib/python3.12/site-packages/statsmodels/tsa/base/tsa_model.py:473: ValueWarning: An unsupported index was provided. As a result, forecasts cannot be generated. To use the model for forecasting, use one of the supported classes of index.\n",
      "  self._init_dates(dates, freq)\n",
      "/opt/conda/lib/python3.12/site-packages/statsmodels/tsa/base/tsa_model.py:473: ValueWarning: An unsupported index was provided. As a result, forecasts cannot be generated. To use the model for forecasting, use one of the supported classes of index.\n",
      "  self._init_dates(dates, freq)\n",
      "/opt/conda/lib/python3.12/site-packages/statsmodels/tsa/base/tsa_model.py:473: ValueWarning: An unsupported index was provided. As a result, forecasts cannot be generated. To use the model for forecasting, use one of the supported classes of index.\n",
      "  self._init_dates(dates, freq)\n",
      "/opt/conda/lib/python3.12/site-packages/statsmodels/base/model.py:607: ConvergenceWarning: Maximum Likelihood optimization failed to converge. Check mle_retvals\n",
      "  warnings.warn(\"Maximum Likelihood optimization failed to \"\n"
     ]
    },
    {
     "name": "stdout",
     "output_type": "stream",
     "text": [
      "                               SARIMAX Results                                \n",
      "==============================================================================\n",
      "Dep. Variable:          humedad_media   No. Observations:                47250\n",
      "Model:                 ARIMA(2, 0, 1)   Log Likelihood             -152233.170\n",
      "Date:                Sat, 08 Mar 2025   AIC                         304488.340\n",
      "Time:                        23:50:47   BIC                         304584.735\n",
      "Sample:                             0   HQIC                        304518.615\n",
      "                              - 47250                                         \n",
      "Covariance Type:                  opg                                         \n",
      "=========================================================================================\n",
      "                            coef    std err          z      P>|z|      [0.025      0.975]\n",
      "-----------------------------------------------------------------------------------------\n",
      "const                    -5.4325      0.610     -8.908      0.000      -6.628      -4.237\n",
      "humedad_hora_1            0.0707      0.002     30.736      0.000       0.066       0.075\n",
      "humedad_hora_2            0.0902      0.003     33.771      0.000       0.085       0.095\n",
      "humedad_hora_3            0.0568      0.003     20.852      0.000       0.051       0.062\n",
      "humedad_media_general     0.9277      0.005    190.393      0.000       0.918       0.937\n",
      "humedad_min_general      -0.0046      0.002     -1.851      0.064      -0.009       0.000\n",
      "humedad_max_general       0.0006      0.003      0.209      0.835      -0.005       0.006\n",
      "ar.L1                     1.5869      0.005    305.022      0.000       1.577       1.597\n",
      "ar.L2                    -0.5932      0.005   -119.765      0.000      -0.603      -0.583\n",
      "ma.L1                    -0.8877      0.003   -269.877      0.000      -0.894      -0.881\n",
      "sigma2                   36.7336      0.114    321.935      0.000      36.510      36.957\n",
      "===================================================================================\n",
      "Ljung-Box (L1) (Q):                  44.80   Jarque-Bera (JB):            373006.93\n",
      "Prob(Q):                              0.00   Prob(JB):                         0.00\n",
      "Heteroskedasticity (H):               0.96   Skew:                            -0.05\n",
      "Prob(H) (two-sided):                  0.00   Kurtosis:                        16.76\n",
      "===================================================================================\n",
      "\n",
      "Warnings:\n",
      "[1] Covariance matrix calculated using the outer product of gradients (complex-step).\n",
      "47250    71.724832\n",
      "47251    74.240091\n",
      "47252    77.234405\n",
      "47253    83.638463\n",
      "47254    86.721004\n",
      "47255    90.614095\n",
      "47256    91.908384\n",
      "47257    91.302533\n",
      "47258    92.311788\n",
      "47259    90.444400\n",
      "Name: predicted_mean, dtype: float64\n"
     ]
    },
    {
     "name": "stderr",
     "output_type": "stream",
     "text": [
      "/opt/conda/lib/python3.12/site-packages/statsmodels/tsa/base/tsa_model.py:837: ValueWarning: No supported index is available. Prediction results will be given with an integer index beginning at `start`.\n",
      "  return get_prediction_index(\n",
      "/opt/conda/lib/python3.12/site-packages/statsmodels/tsa/base/tsa_model.py:837: FutureWarning: No supported index is available. In the next version, calling this method in a model without a supported index will result in an exception.\n",
      "  return get_prediction_index(\n"
     ]
    }
   ],
   "source": [
    "# Variables exógenas\n",
    "exog_variables = ['humedad_hora_1', 'humedad_hora_2', 'humedad_hora_3', 'humedad_media_general', 'humedad_min_general', 'humedad_max_general']\n",
    "\n",
    "# Eliminar valores nulos o rellenar\n",
    "df_pandas_clean = df_pandas.dropna(subset=exog_variables + ['humedad_media'])\n",
    "X = df_pandas_clean[exog_variables]\n",
    "y = df_pandas_clean['humedad_media']\n",
    "\n",
    "# Asegurarse de que los datos sean numéricos\n",
    "X = X.astype(float)\n",
    "y = y.astype(float)\n",
    "\n",
    "# Ajustar el modelo ARIMAX\n",
    "arimax_model = ARIMA(y, exog=X, order=(2, 0, 1))\n",
    "arimax_result = arimax_model.fit()\n",
    "\n",
    "# Resumen del modelo\n",
    "print(arimax_result.summary())\n",
    "\n",
    "# Realizar pronósticos (usando las últimas filas de las variables exógenas)\n",
    "forecast = arimax_result.forecast(steps=10, exog=X.tail(10))\n",
    "print(forecast)"
   ]
  }
 ],
 "metadata": {
  "kernelspec": {
   "display_name": "Python 3 (ipykernel)",
   "language": "python",
   "name": "python3"
  },
  "language_info": {
   "codemirror_mode": {
    "name": "ipython",
    "version": 3
   },
   "file_extension": ".py",
   "mimetype": "text/x-python",
   "name": "python",
   "nbconvert_exporter": "python",
   "pygments_lexer": "ipython3",
   "version": "3.12.8"
  }
 },
 "nbformat": 4,
 "nbformat_minor": 4
}
