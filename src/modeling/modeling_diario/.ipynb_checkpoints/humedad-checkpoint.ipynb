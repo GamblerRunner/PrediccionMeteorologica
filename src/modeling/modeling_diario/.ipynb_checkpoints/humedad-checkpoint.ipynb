{
 "cells": [
  {
   "cell_type": "code",
   "execution_count": null,
   "metadata": {},
   "outputs": [],
   "source": [
    "# docker run -p 8888:8888 -p 4040:4040 -v \"%cd%:/home/jovyan/work\" quay.io/jupyter/pyspark-notebook"
   ]
  },
  {
   "cell_type": "code",
   "execution_count": 3,
   "metadata": {},
   "outputs": [],
   "source": [
    "from pyspark.sql import SparkSession\n",
    "from pyspark.sql.window import Window\n",
    "import pyspark.sql.functions as F\n",
    "\n",
    "from pyspark.sql.functions import col, sin, cos, lit\n",
    "import math\n",
    "\n",
    "import itertools\n",
    "from statsmodels.tsa.statespace.sarimax import SARIMAX\n",
    "from statsmodels.tsa.arima.model import ARIMA\n",
    "\n",
    "import matplotlib.pyplot as plt"
   ]
  },
  {
   "cell_type": "code",
   "execution_count": 4,
   "metadata": {},
   "outputs": [
    {
     "name": "stdout",
     "output_type": "stream",
     "text": [
      "+----+-----+\n",
      "|anho|count|\n",
      "+----+-----+\n",
      "|2023| 8760|\n",
      "|2022| 8760|\n",
      "|2020| 8784|\n",
      "|2021| 8760|\n",
      "|2019| 8760|\n",
      "|2024| 8784|\n",
      "|2025| 1393|\n",
      "+----+-----+\n",
      "\n"
     ]
    }
   ],
   "source": [
    "spark = SparkSession.builder.appName(\"SeriesTemporales\").getOrCreate()\n",
    "# Leer archivo Parquet\n",
    "df = spark.read.parquet(\"../../../data/transformed/madrid_data/parquet/\")\n",
    "df = df.orderBy([\"fecha\", \"hora\"])\n",
    "# Mostrar datos\n",
    "df.groupBy(\"anho\").count().show()"
   ]
  },
  {
   "cell_type": "code",
   "execution_count": 5,
   "metadata": {},
   "outputs": [],
   "source": [
    "# Definir ventana para obtener las 3 horas anteriores\n",
    "window_lag = Window.partitionBy(\"indicativo\", \"anho\", \"mes\", \"dia\").orderBy(\"hora\")\n",
    "\n",
    "# Agregar columnas de las 3 horas previas\n",
    "df = df.withColumn(\"humedad_hora_1\", F.lag(\"humedad_media\", 1).over(window_lag)) \\\n",
    "       .withColumn(\"humedad_hora_2\", F.lag(\"humedad_media\", 2).over(window_lag)) \\\n",
    "       .withColumn(\"humedad_hora_3\", F.lag(\"humedad_media\", 3).over(window_lag))"
   ]
  },
  {
   "cell_type": "code",
   "execution_count": 6,
   "metadata": {},
   "outputs": [],
   "source": [
    "# Calcular temperatura general por hora, día y mes en todo el DataFrame\n",
    "df_humidity_stats = df.groupBy(\"hora\", \"dia\", \"mes\").agg(\n",
    "    F.avg(\"humedad_media\").alias(\"humedad_media_general\"),\n",
    "    F.min(\"humedad_media\").alias(\"humedad_min_general\"),\n",
    "    F.max(\"humedad_media\").alias(\"humedad_max_general\")\n",
    ")\n",
    "# Unir las estadísticas generales al DataFrame original\n",
    "df = df.join(df_humidity_stats, on=[\"hora\", \"dia\", \"mes\"], how=\"left\")"
   ]
  },
  {
   "cell_type": "code",
   "execution_count": 7,
   "metadata": {},
   "outputs": [
    {
     "name": "stdout",
     "output_type": "stream",
     "text": [
      "+----+---+---+----------+-------------+-----------------+----------+----+--------------+--------------+--------------+---------------------+-------------------+-------------------+\n",
      "|hora|dia|mes|fecha     |humedad_media|temperatura_media|indicativo|anho|humedad_hora_1|humedad_hora_2|humedad_hora_3|humedad_media_general|humedad_min_general|humedad_max_general|\n",
      "+----+---+---+----------+-------------+-----------------+----------+----+--------------+--------------+--------------+---------------------+-------------------+-------------------+\n",
      "|0   |1  |1  |2023-01-01|72.0         |3.4              |102       |2023|NULL          |NULL          |NULL          |72.0                 |50.0               |89.0               |\n",
      "|1   |1  |1  |2023-01-01|72.0         |3.0              |102       |2023|72.0          |NULL          |NULL          |72.0                 |49.0               |84.0               |\n",
      "|10  |1  |1  |2023-01-01|60.7         |4.0              |102       |2023|72.0          |72.0          |NULL          |60.67142857142857    |47.0               |78.0               |\n",
      "|11  |1  |1  |2023-01-01|55.3         |5.6              |102       |2023|60.7          |72.0          |72.0          |55.32857142857143    |39.0               |75.0               |\n",
      "|12  |1  |1  |2023-01-01|51.0         |7.1              |102       |2023|55.3          |60.7          |72.0          |51.0                 |34.0               |75.0               |\n",
      "|13  |1  |1  |2023-01-01|48.8         |8.1              |102       |2023|51.0          |55.3          |60.7          |48.82857142857143    |31.0               |77.0               |\n",
      "|14  |1  |1  |2023-01-01|47.0         |8.9              |102       |2023|48.8          |51.0          |55.3          |47.0                 |31.0               |63.0               |\n",
      "|15  |1  |1  |2023-01-01|46.8         |9.4              |102       |2023|47.0          |48.8          |51.0          |46.82857142857143    |27.0               |62.0               |\n",
      "|16  |1  |1  |2023-01-01|47.7         |8.8              |102       |2023|46.8          |47.0          |48.8          |47.67142857142857    |28.0               |60.0               |\n",
      "|17  |1  |1  |2023-01-01|51.7         |7.6              |102       |2023|47.7          |46.8          |47.0          |51.67142857142857    |32.0               |67.0               |\n",
      "|18  |1  |1  |2023-01-01|54.5         |6.6              |102       |2023|51.7          |47.7          |46.8          |54.5                 |34.0               |73.0               |\n",
      "|19  |1  |1  |2023-01-01|57.0         |6.1              |102       |2023|54.5          |51.7          |47.7          |57.0                 |34.0               |73.0               |\n",
      "|2   |1  |1  |2023-01-01|71.3         |2.8              |102       |2023|57.0          |54.5          |51.7          |71.32857142857144    |46.0               |84.0               |\n",
      "|20  |1  |1  |2023-01-01|61.5         |5.6              |102       |2023|71.3          |57.0          |54.5          |61.5                 |43.0               |80.0               |\n",
      "|21  |1  |1  |2023-01-01|65.8         |4.8              |102       |2023|61.5          |71.3          |57.0          |65.82857142857144    |49.0               |84.0               |\n",
      "|22  |1  |1  |2023-01-01|69.8         |3.8              |102       |2023|65.8          |61.5          |71.3          |69.82857142857144    |53.0               |87.0               |\n",
      "|23  |1  |1  |2023-01-01|69.5         |3.4              |102       |2023|69.8          |65.8          |61.5          |69.5                 |52.0               |87.0               |\n",
      "|3   |1  |1  |2023-01-01|72.2         |2.4              |102       |2023|69.5          |69.8          |65.8          |72.17142857142856    |51.0               |83.0               |\n",
      "|4   |1  |1  |2023-01-01|74.0         |1.8              |102       |2023|72.2          |69.5          |69.8          |74.0                 |56.0               |83.0               |\n",
      "|5   |1  |1  |2023-01-01|72.3         |1.6              |102       |2023|74.0          |72.2          |69.5          |72.32857142857144    |53.0               |81.0               |\n",
      "+----+---+---+----------+-------------+-----------------+----------+----+--------------+--------------+--------------+---------------------+-------------------+-------------------+\n",
      "only showing top 20 rows\n",
      "\n"
     ]
    }
   ],
   "source": [
    "df = df.filter(df[\"anho\"] >= 2023)\n",
    "df.show(20, truncate=False)"
   ]
  },
  {
   "cell_type": "code",
   "execution_count": 8,
   "metadata": {},
   "outputs": [],
   "source": [
    "# Agregar columnas de seno y coseno\n",
    "df = df.withColumn(\"hora_sin\", sin(2 * math.pi * col(\"hora\") / lit(24)))\n",
    "df = df.withColumn(\"hora_cos\", cos(2 * math.pi * col(\"hora\") / lit(24)))\n",
    "df = df.withColumn(\"dia_sin\", sin(2 * math.pi * col(\"dia\") / lit(7)))\n",
    "df = df.withColumn(\"dia_cos\", cos(2 * math.pi * col(\"dia\") / lit(7)))\n",
    "df = df.withColumn(\"mes_sin\", sin(2 * math.pi * col(\"mes\") / lit(12)))\n",
    "df = df.withColumn(\"mes_cos\", cos(2 * math.pi * col(\"mes\") / lit(12)))\n",
    "\n",
    "df = df.drop(\"hora\", \"dia\", \"mes\", \"temperatura_media\", \"anho\", \"fecha\")"
   ]
  },
  {
   "cell_type": "code",
   "execution_count": 9,
   "metadata": {},
   "outputs": [
    {
     "name": "stdout",
     "output_type": "stream",
     "text": [
      "+-------------+----------+--------------+--------------+--------------+---------------------+-------------------+-------------------+--------------------+--------------------+------------------+------------------+-------------------+------------------+\n",
      "|humedad_media|indicativo|humedad_hora_1|humedad_hora_2|humedad_hora_3|humedad_media_general|humedad_min_general|humedad_max_general|            hora_sin|            hora_cos|           dia_sin|           dia_cos|            mes_sin|           mes_cos|\n",
      "+-------------+----------+--------------+--------------+--------------+---------------------+-------------------+-------------------+--------------------+--------------------+------------------+------------------+-------------------+------------------+\n",
      "|         72.0|       102|          NULL|          NULL|          NULL|                 72.0|               50.0|               89.0|                 0.0|                 1.0|0.7818314824680298|0.6234898018587336|0.49999999999999994|0.8660254037844387|\n",
      "|         72.0|       102|          72.0|          NULL|          NULL|                 72.0|               49.0|               84.0| 0.25881904510252074|  0.9659258262890683|0.7818314824680298|0.6234898018587336|0.49999999999999994|0.8660254037844387|\n",
      "|         60.7|       102|          72.0|          72.0|          NULL|    60.67142857142857|               47.0|               78.0| 0.49999999999999994| -0.8660254037844387|0.7818314824680298|0.6234898018587336|0.49999999999999994|0.8660254037844387|\n",
      "|         55.3|       102|          60.7|          72.0|          72.0|    55.32857142857143|               39.0|               75.0|   0.258819045102521| -0.9659258262890682|0.7818314824680298|0.6234898018587336|0.49999999999999994|0.8660254037844387|\n",
      "|         51.0|       102|          55.3|          60.7|          72.0|                 51.0|               34.0|               75.0|1.224646799147353...|                -1.0|0.7818314824680298|0.6234898018587336|0.49999999999999994|0.8660254037844387|\n",
      "|         48.8|       102|          51.0|          55.3|          60.7|    48.82857142857143|               31.0|               77.0| -0.2588190451025208| -0.9659258262890683|0.7818314824680298|0.6234898018587336|0.49999999999999994|0.8660254037844387|\n",
      "|         47.0|       102|          48.8|          51.0|          55.3|                 47.0|               31.0|               63.0| -0.4999999999999997| -0.8660254037844388|0.7818314824680298|0.6234898018587336|0.49999999999999994|0.8660254037844387|\n",
      "|         46.8|       102|          47.0|          48.8|          51.0|    46.82857142857143|               27.0|               62.0| -0.7071067811865471| -0.7071067811865479|0.7818314824680298|0.6234898018587336|0.49999999999999994|0.8660254037844387|\n",
      "|         47.7|       102|          46.8|          47.0|          48.8|    47.67142857142857|               28.0|               60.0| -0.8660254037844384| -0.5000000000000004|0.7818314824680298|0.6234898018587336|0.49999999999999994|0.8660254037844387|\n",
      "|         51.7|       102|          47.7|          46.8|          47.0|    51.67142857142857|               32.0|               67.0| -0.9659258262890683|-0.25881904510252063|0.7818314824680298|0.6234898018587336|0.49999999999999994|0.8660254037844387|\n",
      "|         54.5|       102|          51.7|          47.7|          46.8|                 54.5|               34.0|               73.0|                -1.0|-1.83697019872102...|0.7818314824680298|0.6234898018587336|0.49999999999999994|0.8660254037844387|\n",
      "|         57.0|       102|          54.5|          51.7|          47.7|                 57.0|               34.0|               73.0| -0.9659258262890684|  0.2588190451025203|0.7818314824680298|0.6234898018587336|0.49999999999999994|0.8660254037844387|\n",
      "|         71.3|       102|          57.0|          54.5|          51.7|    71.32857142857144|               46.0|               84.0| 0.49999999999999994|  0.8660254037844387|0.7818314824680298|0.6234898018587336|0.49999999999999994|0.8660254037844387|\n",
      "|         61.5|       102|          71.3|          57.0|          54.5|                 61.5|               43.0|               80.0| -0.8660254037844386|  0.5000000000000001|0.7818314824680298|0.6234898018587336|0.49999999999999994|0.8660254037844387|\n",
      "|         65.8|       102|          61.5|          71.3|          57.0|    65.82857142857144|               49.0|               84.0| -0.7071067811865477|  0.7071067811865474|0.7818314824680298|0.6234898018587336|0.49999999999999994|0.8660254037844387|\n",
      "|         69.8|       102|          65.8|          61.5|          71.3|    69.82857142857144|               53.0|               87.0| -0.5000000000000004|  0.8660254037844384|0.7818314824680298|0.6234898018587336|0.49999999999999994|0.8660254037844387|\n",
      "|         69.5|       102|          69.8|          65.8|          61.5|                 69.5|               52.0|               87.0|-0.25881904510252157|  0.9659258262890681|0.7818314824680298|0.6234898018587336|0.49999999999999994|0.8660254037844387|\n",
      "|         72.2|       102|          69.5|          69.8|          65.8|    72.17142857142856|               51.0|               83.0|  0.7071067811865475|  0.7071067811865476|0.7818314824680298|0.6234898018587336|0.49999999999999994|0.8660254037844387|\n",
      "|         74.0|       102|          72.2|          69.5|          69.8|                 74.0|               56.0|               83.0|  0.8660254037844386|  0.5000000000000001|0.7818314824680298|0.6234898018587336|0.49999999999999994|0.8660254037844387|\n",
      "|         72.3|       102|          74.0|          72.2|          69.5|    72.32857142857144|               53.0|               81.0|  0.9659258262890683| 0.25881904510252074|0.7818314824680298|0.6234898018587336|0.49999999999999994|0.8660254037844387|\n",
      "+-------------+----------+--------------+--------------+--------------+---------------------+-------------------+-------------------+--------------------+--------------------+------------------+------------------+-------------------+------------------+\n",
      "only showing top 20 rows\n",
      "\n"
     ]
    }
   ],
   "source": [
    "df.show(20)"
   ]
  },
  {
   "cell_type": "code",
   "execution_count": 10,
   "metadata": {},
   "outputs": [],
   "source": [
    "df_pandas = df.toPandas()"
   ]
  },
  {
   "cell_type": "code",
   "execution_count": 11,
   "metadata": {},
   "outputs": [],
   "source": [
    "def grid_search(y, X):\n",
    "    # Definir los rangos de p, d, q para buscar\n",
    "    p = range(0, 4)  # AR terms\n",
    "    d = range(0, 2)  # Differencing\n",
    "    q = range(0, 4)  # MA terms\n",
    "    \n",
    "    # Generar combinaciones de parámetros\n",
    "    pdq_combinations = list(itertools.product(p, d, q))\n",
    "    \n",
    "    # Almacenar resultados\n",
    "    best_aic = float(\"inf\")\n",
    "    best_order = None\n",
    "    results = []\n",
    "    \n",
    "    for order in pdq_combinations:\n",
    "        try:\n",
    "            model = ARIMA(y, exog=X, order=order)\n",
    "            result = model.fit()\n",
    "            aic = result.aic\n",
    "            \n",
    "            results.append((order, aic))\n",
    "    \n",
    "            if aic < best_aic:\n",
    "                best_aic = aic\n",
    "                best_order = order\n",
    "    \n",
    "            print(f\"Probando orden {order} - AIC: {aic}\")\n",
    "    \n",
    "        except Exception as e:\n",
    "            print(f\"Error con orden {order}: {e}\")\n",
    "    return results"
   ]
  },
  {
   "cell_type": "code",
   "execution_count": 12,
   "metadata": {},
   "outputs": [],
   "source": [
    "def show_graphics(y, forecast):\n",
    "    # Limitar los datos históricos a los últimos 24 puntos\n",
    "    historical_data = y[-24:]\n",
    "    \n",
    "    # Limitar las predicciones a los primeros 24 puntos\n",
    "    forecast_data = forecast[:24]\n",
    "    \n",
    "    # Graficar los datos históricos (últimos 24 puntos)\n",
    "    plt.figure(figsize=(10, 6))\n",
    "    plt.plot(range(len(historical_data)), historical_data, label='Datos históricos', color='blue')\n",
    "    \n",
    "    # Graficar las predicciones (primeros 24 puntos)\n",
    "    plt.plot(range(len(historical_data), len(historical_data) + len(forecast_data)), forecast_data, label='Pronóstico', color='red', linestyle='--')\n",
    "    \n",
    "    # Añadir etiquetas y título\n",
    "    plt.title('Pronóstico con SARIMAX')\n",
    "    plt.xlabel('Tiempo')\n",
    "    plt.ylabel('Valor')\n",
    "    \n",
    "    # Mostrar leyenda\n",
    "    plt.legend()\n",
    "    \n",
    "    # Mostrar gráfico\n",
    "    plt.show()"
   ]
  },
  {
   "cell_type": "code",
   "execution_count": 13,
   "metadata": {},
   "outputs": [],
   "source": [
    "# Variables exógenas\n",
    "#exog_variables = ['humedad_hora_1', 'humedad_hora_2', 'humedad_hora_3', 'humedad_media_general', 'humedad_min_general', 'humedad_max_general']\n",
    "exog_variables = ['hora_sin', 'hora_cos', 'dia_sin', 'dia_cos', 'mes_sin', 'mes_cos']\n",
    "\n",
    "# Eliminar valores nulos o rellenar\n",
    "df_humidity = df_pandas.dropna(subset=exog_variables + ['humedad_media'])\n",
    "X = df_humidity[exog_variables]\n",
    "y = df_humidity['humedad_media']\n",
    "\n",
    "# Asegurarse de que los datos sean numéricos\n",
    "X = X.astype(float)\n",
    "y = y.astype(float)"
   ]
  },
  {
   "cell_type": "code",
   "execution_count": 14,
   "metadata": {},
   "outputs": [
    {
     "name": "stdout",
     "output_type": "stream",
     "text": [
      "Probando orden (0, 0, 0) - AIC: 159797.7559546204\n",
      "Probando orden (0, 0, 1) - AIC: 143996.44215553175\n",
      "Probando orden (0, 0, 2) - AIC: 138366.01719245524\n",
      "Probando orden (0, 0, 3) - AIC: 132711.86301521095\n",
      "Probando orden (0, 1, 0) - AIC: 128103.12587062636\n",
      "Probando orden (0, 1, 1) - AIC: 127661.74712873888\n",
      "Probando orden (0, 1, 2) - AIC: 127465.10009720457\n",
      "Probando orden (0, 1, 3) - AIC: 127391.03613533138\n",
      "Probando orden (1, 0, 0) - AIC: 127220.62571100754\n",
      "Probando orden (1, 0, 1) - AIC: 127022.56402661973\n",
      "Probando orden (1, 0, 2) - AIC: 126962.64175735519\n"
     ]
    },
    {
     "name": "stderr",
     "output_type": "stream",
     "text": [
      "/opt/conda/lib/python3.12/site-packages/statsmodels/base/model.py:607: ConvergenceWarning: Maximum Likelihood optimization failed to converge. Check mle_retvals\n",
      "  warnings.warn(\"Maximum Likelihood optimization failed to \"\n"
     ]
    },
    {
     "name": "stdout",
     "output_type": "stream",
     "text": [
      "Probando orden (1, 0, 3) - AIC: 126954.90858701323\n",
      "Probando orden (1, 1, 0) - AIC: 127739.7019614265\n",
      "Probando orden (1, 1, 1) - AIC: 126765.40141718375\n",
      "Probando orden (1, 1, 2) - AIC: 127386.0194568231\n"
     ]
    },
    {
     "name": "stderr",
     "output_type": "stream",
     "text": [
      "/opt/conda/lib/python3.12/site-packages/statsmodels/base/model.py:607: ConvergenceWarning: Maximum Likelihood optimization failed to converge. Check mle_retvals\n",
      "  warnings.warn(\"Maximum Likelihood optimization failed to \"\n"
     ]
    },
    {
     "name": "stdout",
     "output_type": "stream",
     "text": [
      "Probando orden (1, 1, 3) - AIC: 126744.02876899563\n",
      "Probando orden (2, 0, 0) - AIC: 127045.29027118535\n",
      "Probando orden (2, 0, 1) - AIC: 126681.06450469146\n"
     ]
    },
    {
     "name": "stderr",
     "output_type": "stream",
     "text": [
      "/opt/conda/lib/python3.12/site-packages/statsmodels/tsa/statespace/sarimax.py:966: UserWarning: Non-stationary starting autoregressive parameters found. Using zeros as starting parameters.\n",
      "  warn('Non-stationary starting autoregressive parameters'\n",
      "/opt/conda/lib/python3.12/site-packages/statsmodels/tsa/statespace/sarimax.py:978: UserWarning: Non-invertible starting MA parameters found. Using zeros as starting parameters.\n",
      "  warn('Non-invertible starting MA parameters found.'\n",
      "/opt/conda/lib/python3.12/site-packages/statsmodels/base/model.py:607: ConvergenceWarning: Maximum Likelihood optimization failed to converge. Check mle_retvals\n",
      "  warnings.warn(\"Maximum Likelihood optimization failed to \"\n"
     ]
    },
    {
     "name": "stdout",
     "output_type": "stream",
     "text": [
      "Probando orden (2, 0, 2) - AIC: 126794.72780014148\n"
     ]
    },
    {
     "name": "stderr",
     "output_type": "stream",
     "text": [
      "/opt/conda/lib/python3.12/site-packages/statsmodels/base/model.py:607: ConvergenceWarning: Maximum Likelihood optimization failed to converge. Check mle_retvals\n",
      "  warnings.warn(\"Maximum Likelihood optimization failed to \"\n"
     ]
    },
    {
     "name": "stdout",
     "output_type": "stream",
     "text": [
      "Probando orden (2, 0, 3) - AIC: 126795.09393025778\n",
      "Probando orden (2, 1, 0) - AIC: 127590.30927245542\n",
      "Probando orden (2, 1, 1) - AIC: 126742.16924919211\n"
     ]
    },
    {
     "name": "stderr",
     "output_type": "stream",
     "text": [
      "/opt/conda/lib/python3.12/site-packages/statsmodels/base/model.py:607: ConvergenceWarning: Maximum Likelihood optimization failed to converge. Check mle_retvals\n",
      "  warnings.warn(\"Maximum Likelihood optimization failed to \"\n"
     ]
    },
    {
     "name": "stdout",
     "output_type": "stream",
     "text": [
      "Probando orden (2, 1, 2) - AIC: 126648.67060773133\n",
      "Probando orden (2, 1, 3) - AIC: 126559.25700782788\n",
      "Probando orden (3, 0, 0) - AIC: 126990.69253881056\n"
     ]
    },
    {
     "name": "stderr",
     "output_type": "stream",
     "text": [
      "/opt/conda/lib/python3.12/site-packages/statsmodels/base/model.py:607: ConvergenceWarning: Maximum Likelihood optimization failed to converge. Check mle_retvals\n",
      "  warnings.warn(\"Maximum Likelihood optimization failed to \"\n"
     ]
    },
    {
     "name": "stdout",
     "output_type": "stream",
     "text": [
      "Probando orden (3, 0, 1) - AIC: 126798.09807105627\n"
     ]
    },
    {
     "name": "stderr",
     "output_type": "stream",
     "text": [
      "/opt/conda/lib/python3.12/site-packages/statsmodels/tsa/statespace/sarimax.py:966: UserWarning: Non-stationary starting autoregressive parameters found. Using zeros as starting parameters.\n",
      "  warn('Non-stationary starting autoregressive parameters'\n",
      "/opt/conda/lib/python3.12/site-packages/statsmodels/tsa/statespace/sarimax.py:978: UserWarning: Non-invertible starting MA parameters found. Using zeros as starting parameters.\n",
      "  warn('Non-invertible starting MA parameters found.'\n",
      "/opt/conda/lib/python3.12/site-packages/statsmodels/base/model.py:607: ConvergenceWarning: Maximum Likelihood optimization failed to converge. Check mle_retvals\n",
      "  warnings.warn(\"Maximum Likelihood optimization failed to \"\n"
     ]
    },
    {
     "name": "stdout",
     "output_type": "stream",
     "text": [
      "Probando orden (3, 0, 2) - AIC: 126632.46893240052\n"
     ]
    },
    {
     "name": "stderr",
     "output_type": "stream",
     "text": [
      "/opt/conda/lib/python3.12/site-packages/statsmodels/base/model.py:607: ConvergenceWarning: Maximum Likelihood optimization failed to converge. Check mle_retvals\n",
      "  warnings.warn(\"Maximum Likelihood optimization failed to \"\n"
     ]
    },
    {
     "name": "stdout",
     "output_type": "stream",
     "text": [
      "Probando orden (3, 0, 3) - AIC: 126506.13678530612\n",
      "Probando orden (3, 1, 0) - AIC: 127557.18764715476\n",
      "Probando orden (3, 1, 1) - AIC: 126743.7647698996\n"
     ]
    },
    {
     "name": "stderr",
     "output_type": "stream",
     "text": [
      "/opt/conda/lib/python3.12/site-packages/statsmodels/base/model.py:607: ConvergenceWarning: Maximum Likelihood optimization failed to converge. Check mle_retvals\n",
      "  warnings.warn(\"Maximum Likelihood optimization failed to \"\n"
     ]
    },
    {
     "name": "stdout",
     "output_type": "stream",
     "text": [
      "Probando orden (3, 1, 2) - AIC: 126544.38522221372\n"
     ]
    },
    {
     "name": "stderr",
     "output_type": "stream",
     "text": [
      "/opt/conda/lib/python3.12/site-packages/statsmodels/tsa/statespace/sarimax.py:966: UserWarning: Non-stationary starting autoregressive parameters found. Using zeros as starting parameters.\n",
      "  warn('Non-stationary starting autoregressive parameters'\n",
      "/opt/conda/lib/python3.12/site-packages/statsmodels/tsa/statespace/sarimax.py:978: UserWarning: Non-invertible starting MA parameters found. Using zeros as starting parameters.\n",
      "  warn('Non-invertible starting MA parameters found.'\n"
     ]
    },
    {
     "name": "stdout",
     "output_type": "stream",
     "text": [
      "Probando orden (3, 1, 3) - AIC: 126256.03666009773\n",
      "\n",
      "Mejor orden encontrado (humedad): (3, 1, 3) con AIC: 126256.03666009773\n"
     ]
    }
   ],
   "source": [
    "# Ordenar resultados por AIC\n",
    "results = grid_search(y, X)\n",
    "results = sorted(results, key=lambda x: x[1])\n",
    "best_order, best_aic = results[0]\n",
    "\n",
    "print(f\"\\nMejor orden encontrado (humedad): {best_order} con AIC: {best_aic}\")"
   ]
  },
  {
   "cell_type": "code",
   "execution_count": 15,
   "metadata": {},
   "outputs": [
    {
     "name": "stderr",
     "output_type": "stream",
     "text": [
      "/opt/conda/lib/python3.12/site-packages/statsmodels/tsa/statespace/sarimax.py:966: UserWarning: Non-stationary starting autoregressive parameters found. Using zeros as starting parameters.\n",
      "  warn('Non-stationary starting autoregressive parameters'\n",
      "/opt/conda/lib/python3.12/site-packages/statsmodels/tsa/statespace/sarimax.py:978: UserWarning: Non-invertible starting MA parameters found. Using zeros as starting parameters.\n",
      "  warn('Non-invertible starting MA parameters found.'\n"
     ]
    },
    {
     "name": "stdout",
     "output_type": "stream",
     "text": [
      "                               SARIMAX Results                                \n",
      "==============================================================================\n",
      "Dep. Variable:          humedad_media   No. Observations:                18937\n",
      "Model:                 ARIMA(3, 1, 3)   Log Likelihood              -63115.018\n",
      "Date:                Sun, 09 Mar 2025   AIC                         126256.037\n",
      "Time:                        14:19:55   BIC                         126358.071\n",
      "Sample:                             0   HQIC                        126289.508\n",
      "                              - 18937                                         \n",
      "Covariance Type:                  opg                                         \n",
      "==============================================================================\n",
      "                 coef    std err          z      P>|z|      [0.025      0.975]\n",
      "------------------------------------------------------------------------------\n",
      "hora_sin      10.4960      0.065    160.534      0.000      10.368      10.624\n",
      "hora_cos       0.9940      0.054     18.322      0.000       0.888       1.100\n",
      "dia_sin        0.0845      0.127      0.667      0.505      -0.164       0.333\n",
      "dia_cos       -0.8626      0.134     -6.441      0.000      -1.125      -0.600\n",
      "mes_sin        0.7688      1.207      0.637      0.524      -1.597       3.135\n",
      "mes_cos       12.6589      0.968     13.076      0.000      10.761      14.556\n",
      "ar.L1         -0.1146      0.011    -10.584      0.000      -0.136      -0.093\n",
      "ar.L2         -0.1572      0.011    -14.115      0.000      -0.179      -0.135\n",
      "ar.L3          0.6911      0.010     68.597      0.000       0.671       0.711\n",
      "ma.L1         -0.0990      0.010    -10.119      0.000      -0.118      -0.080\n",
      "ma.L2          0.0923      0.010      9.126      0.000       0.073       0.112\n",
      "ma.L3         -0.8542      0.008   -112.061      0.000      -0.869      -0.839\n",
      "sigma2        45.9861      0.212    217.074      0.000      45.571      46.401\n",
      "===================================================================================\n",
      "Ljung-Box (L1) (Q):                  12.42   Jarque-Bera (JB):            110192.43\n",
      "Prob(Q):                              0.00   Prob(JB):                         0.00\n",
      "Heteroskedasticity (H):               1.21   Skew:                            -0.05\n",
      "Prob(H) (two-sided):                  0.00   Kurtosis:                        14.82\n",
      "===================================================================================\n",
      "\n",
      "Warnings:\n",
      "[1] Covariance matrix calculated using the outer product of gradients (complex-step).\n",
      "18937    80.486858\n",
      "18938    82.801423\n",
      "18939    83.367897\n",
      "18940    80.957884\n",
      "18941    77.950365\n",
      "18942    75.162903\n",
      "18943    72.935707\n",
      "18944    70.735197\n",
      "18945    69.189598\n",
      "18946    68.560995\n",
      "18947    68.325461\n",
      "18948    68.869865\n",
      "18949    85.013724\n",
      "18950    70.212075\n",
      "18951    72.024500\n",
      "18952    74.485353\n",
      "18953    77.041896\n",
      "18954    86.868773\n",
      "18955    88.438011\n",
      "18956    89.191812\n",
      "18957    89.244167\n",
      "18958    88.717410\n",
      "18959    87.388537\n",
      "18960    85.472262\n",
      "Name: predicted_mean, dtype: float64\n"
     ]
    }
   ],
   "source": [
    "best_model = ARIMA(y, exog=X, order=best_order)\n",
    "best_result = best_model.fit()\n",
    "\n",
    "# Mostrar resumen del modelo\n",
    "print(best_result.summary())\n",
    "forecast = best_result.forecast(steps=24, exog=X.tail(24))\n",
    "\n",
    "# Mostrar resultados\n",
    "print(forecast)"
   ]
  },
  {
   "cell_type": "code",
   "execution_count": 17,
   "metadata": {},
   "outputs": [
    {
     "data": {
      "image/png": "[encoded data removed]",
      "text/plain": [
       "<Figure size 1000x600 with 1 Axes>"
      ]
     },
     "metadata": {},
     "output_type": "display_data"
    }
   ],
   "source": [
    "show_graphics(y, forecast)"
   ]
  },
  {
   "cell_type": "code",
   "execution_count": null,
   "metadata": {},
   "outputs": [],
   "source": []
  }
 ],
 "metadata": {
  "kernelspec": {
   "display_name": "Python 3 (ipykernel)",
   "language": "python",
   "name": "python3"
  },
  "language_info": {
   "codemirror_mode": {
    "name": "ipython",
    "version": 3
   },
   "file_extension": ".py",
   "mimetype": "text/x-python",
   "name": "python",
   "nbconvert_exporter": "python",
   "pygments_lexer": "ipython3",
   "version": "3.12.8"
  }
 },
 "nbformat": 4,
 "nbformat_minor": 4
}
