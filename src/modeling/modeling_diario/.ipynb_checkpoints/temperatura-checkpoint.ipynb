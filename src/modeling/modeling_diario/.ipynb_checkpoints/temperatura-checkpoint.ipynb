{
 "cells": [
  {
   "cell_type": "code",
   "execution_count": null,
   "metadata": {},
   "outputs": [],
   "source": [
    "# docker run -p 8888:8888 -p 4040:4040 -v \"%cd%:/home/jovyan/work\" quay.io/jupyter/pyspark-notebook"
   ]
  },
  {
   "cell_type": "code",
   "execution_count": 1,
   "metadata": {},
   "outputs": [],
   "source": [
    "from pyspark.sql import SparkSession\n",
    "from pyspark.sql.window import Window\n",
    "import pyspark.sql.functions as F\n",
    "\n",
    "from pyspark.sql.functions import col, sin, cos, lit\n",
    "import math\n",
    "\n",
    "import itertools\n",
    "from statsmodels.tsa.statespace.sarimax import SARIMAX\n",
    "from statsmodels.tsa.arima.model import ARIMA\n",
    "\n",
    "import matplotlib.pyplot as plt"
   ]
  },
  {
   "cell_type": "code",
   "execution_count": 2,
   "metadata": {},
   "outputs": [
    {
     "name": "stdout",
     "output_type": "stream",
     "text": [
      "+----+-----+\n",
      "|anho|count|\n",
      "+----+-----+\n",
      "|2023| 8760|\n",
      "|2022| 8760|\n",
      "|2020| 8784|\n",
      "|2021| 8760|\n",
      "|2019| 8760|\n",
      "|2024| 8784|\n",
      "|2025| 1393|\n",
      "+----+-----+\n",
      "\n"
     ]
    }
   ],
   "source": [
    "spark = SparkSession.builder.appName(\"SeriesTemporales\").getOrCreate()\n",
    "# Leer archivo Parquet\n",
    "df = spark.read.parquet(\"../../../data/transformed/madrid_data/parquet/\")\n",
    "df = df.orderBy([\"fecha\", \"hora\"])\n",
    "# Mostrar datos\n",
    "df.groupBy(\"anho\").count().show()"
   ]
  },
  {
   "cell_type": "code",
   "execution_count": 3,
   "metadata": {},
   "outputs": [],
   "source": [
    "# Definir ventana para obtener las 3 horas anteriores\n",
    "window_lag = Window.partitionBy(\"indicativo\", \"anho\", \"mes\", \"dia\").orderBy(\"hora\")\n",
    "\n",
    "# Agregar columnas de las 3 horas previas\n",
    "df = df.withColumn(\"temp_hora_1\", F.lag(\"temperatura_media\", 1).over(window_lag)) \\\n",
    "       .withColumn(\"temp_hora_2\", F.lag(\"temperatura_media\", 2).over(window_lag)) \\\n",
    "       .withColumn(\"temp_hora_3\", F.lag(\"temperatura_media\", 3).over(window_lag))"
   ]
  },
  {
   "cell_type": "code",
   "execution_count": 4,
   "metadata": {},
   "outputs": [],
   "source": [
    "# Calcular temperatura general por hora, día y mes en todo el DataFrame\n",
    "df_temp_stats = df.groupBy(\"hora\", \"dia\", \"mes\").agg(\n",
    "    F.avg(\"temperatura_media\").alias(\"temp_media_general\"),\n",
    "    F.min(\"temperatura_media\").alias(\"temp_min_general\"),\n",
    "    F.max(\"temperatura_media\").alias(\"temp_max_general\")\n",
    ")\n",
    "# Unir las estadísticas generales al DataFrame original\n",
    "df = df.join(df_temp_stats, on=[\"hora\", \"dia\", \"mes\"], how=\"left\")"
   ]
  },
  {
   "cell_type": "code",
   "execution_count": 5,
   "metadata": {},
   "outputs": [
    {
     "name": "stdout",
     "output_type": "stream",
     "text": [
      "+----+---+---+----------+-------------+-----------------+----------+----+-----------+-----------+-----------+------------------+----------------+----------------+\n",
      "|hora|dia|mes|fecha     |humedad_media|temperatura_media|indicativo|anho|temp_hora_1|temp_hora_2|temp_hora_3|temp_media_general|temp_min_general|temp_max_general|\n",
      "+----+---+---+----------+-------------+-----------------+----------+----+-----------+-----------+-----------+------------------+----------------+----------------+\n",
      "|0   |1  |1  |2023-01-01|72.0         |3.4              |102       |2023|NULL       |NULL       |NULL       |3.4285714285714284|0.6             |6.9             |\n",
      "|1   |1  |1  |2023-01-01|72.0         |3.0              |102       |2023|3.4        |NULL       |NULL       |3.0               |0.6             |6.3             |\n",
      "|10  |1  |1  |2023-01-01|60.7         |4.0              |102       |2023|3.0        |3.4        |NULL       |3.9857142857142853|1.9             |8.6             |\n",
      "|11  |1  |1  |2023-01-01|55.3         |5.6              |102       |2023|4.0        |3.0        |3.4        |5.571428571428571 |3.1             |9.6             |\n",
      "|12  |1  |1  |2023-01-01|51.0         |7.1              |102       |2023|5.6        |4.0        |3.0        |7.128571428571428 |11.6            |7.8             |\n",
      "|13  |1  |1  |2023-01-01|48.8         |8.1              |102       |2023|7.1        |5.6        |4.0        |8.142857142857142 |10.1            |8.7             |\n",
      "|14  |1  |1  |2023-01-01|47.0         |8.9              |102       |2023|8.1        |7.1        |5.6        |8.914285714285715 |10.4            |9.1             |\n",
      "|15  |1  |1  |2023-01-01|46.8         |9.4              |102       |2023|8.9        |8.1        |7.1        |9.37142857142857  |11.9            |9.4             |\n",
      "|16  |1  |1  |2023-01-01|47.7         |8.8              |102       |2023|9.4        |8.9        |8.1        |8.828571428571427 |10.1            |8.8             |\n",
      "|17  |1  |1  |2023-01-01|51.7         |7.6              |102       |2023|8.8        |9.4        |8.9        |7.571428571428571 |14.7            |8.5             |\n",
      "|18  |1  |1  |2023-01-01|54.5         |6.6              |102       |2023|7.6        |8.8        |9.4        |6.6428571428571415|1.7             |7.7             |\n",
      "|19  |1  |1  |2023-01-01|57.0         |6.1              |102       |2023|6.6        |7.6        |8.8        |6.142857142857143 |1.1             |7.1             |\n",
      "|2   |1  |1  |2023-01-01|71.3         |2.8              |102       |2023|6.1        |6.6        |7.6        |2.8428571428571425|0.4             |5.5             |\n",
      "|20  |1  |1  |2023-01-01|61.5         |5.6              |102       |2023|2.8        |6.1        |6.6        |5.6428571428571415|1.0             |6.6             |\n",
      "|21  |1  |1  |2023-01-01|65.8         |4.8              |102       |2023|5.6        |2.8        |6.1        |4.814285714285715 |0.5             |5.8             |\n",
      "|22  |1  |1  |2023-01-01|69.8         |3.8              |102       |2023|4.8        |5.6        |2.8        |3.842857142857143 |-0.4            |9.3             |\n",
      "|23  |1  |1  |2023-01-01|69.5         |3.4              |102       |2023|3.8        |4.8        |5.6        |3.371428571428571 |-0.6            |8.6             |\n",
      "|3   |1  |1  |2023-01-01|72.2         |2.4              |102       |2023|3.4        |3.8        |4.8        |2.4               |0.0             |5.5             |\n",
      "|4   |1  |1  |2023-01-01|74.0         |1.8              |102       |2023|2.4        |3.4        |3.8        |1.7714285714285716|-0.1            |4.7             |\n",
      "|5   |1  |1  |2023-01-01|72.3         |1.6              |102       |2023|1.8        |2.4        |3.4        |1.6142857142857143|-0.5            |4.8             |\n",
      "+----+---+---+----------+-------------+-----------------+----------+----+-----------+-----------+-----------+------------------+----------------+----------------+\n",
      "only showing top 20 rows\n",
      "\n"
     ]
    }
   ],
   "source": [
    "df = df.filter(df[\"anho\"] >= 2023)\n",
    "df.show(20, truncate=False)"
   ]
  },
  {
   "cell_type": "code",
   "execution_count": 6,
   "metadata": {},
   "outputs": [],
   "source": [
    "# Agregar columnas de seno y coseno\n",
    "df = df.withColumn(\"hora_sin\", sin(2 * math.pi * col(\"hora\") / lit(24)))\n",
    "df = df.withColumn(\"hora_cos\", cos(2 * math.pi * col(\"hora\") / lit(24)))\n",
    "df = df.withColumn(\"dia_sin\", sin(2 * math.pi * col(\"dia\") / lit(7)))\n",
    "df = df.withColumn(\"dia_cos\", cos(2 * math.pi * col(\"dia\") / lit(7)))\n",
    "df = df.withColumn(\"mes_sin\", sin(2 * math.pi * col(\"mes\") / lit(12)))\n",
    "df = df.withColumn(\"mes_cos\", cos(2 * math.pi * col(\"mes\") / lit(12)))\n",
    "\n",
    "df = df.drop(\"hora\", \"dia\", \"mes\", \"humedad_media\", \"anho\", \"fecha\")"
   ]
  },
  {
   "cell_type": "code",
   "execution_count": 7,
   "metadata": {},
   "outputs": [
    {
     "name": "stdout",
     "output_type": "stream",
     "text": [
      "+-----------------+----------+-----------+-----------+-----------+------------------+----------------+----------------+--------------------+--------------------+------------------+------------------+-------------------+------------------+\n",
      "|temperatura_media|indicativo|temp_hora_1|temp_hora_2|temp_hora_3|temp_media_general|temp_min_general|temp_max_general|            hora_sin|            hora_cos|           dia_sin|           dia_cos|            mes_sin|           mes_cos|\n",
      "+-----------------+----------+-----------+-----------+-----------+------------------+----------------+----------------+--------------------+--------------------+------------------+------------------+-------------------+------------------+\n",
      "|              3.4|       102|       NULL|       NULL|       NULL|3.4285714285714284|             0.6|             6.9|                 0.0|                 1.0|0.7818314824680298|0.6234898018587336|0.49999999999999994|0.8660254037844387|\n",
      "|              3.0|       102|        3.4|       NULL|       NULL|               3.0|             0.6|             6.3| 0.25881904510252074|  0.9659258262890683|0.7818314824680298|0.6234898018587336|0.49999999999999994|0.8660254037844387|\n",
      "|              4.0|       102|        3.0|        3.4|       NULL|3.9857142857142853|             1.9|             8.6| 0.49999999999999994| -0.8660254037844387|0.7818314824680298|0.6234898018587336|0.49999999999999994|0.8660254037844387|\n",
      "|              5.6|       102|        4.0|        3.0|        3.4| 5.571428571428571|             3.1|             9.6|   0.258819045102521| -0.9659258262890682|0.7818314824680298|0.6234898018587336|0.49999999999999994|0.8660254037844387|\n",
      "|              7.1|       102|        5.6|        4.0|        3.0| 7.128571428571428|            11.6|             7.8|1.224646799147353...|                -1.0|0.7818314824680298|0.6234898018587336|0.49999999999999994|0.8660254037844387|\n",
      "|              8.1|       102|        7.1|        5.6|        4.0| 8.142857142857142|            10.1|             8.7| -0.2588190451025208| -0.9659258262890683|0.7818314824680298|0.6234898018587336|0.49999999999999994|0.8660254037844387|\n",
      "|              8.9|       102|        8.1|        7.1|        5.6| 8.914285714285715|            10.4|             9.1| -0.4999999999999997| -0.8660254037844388|0.7818314824680298|0.6234898018587336|0.49999999999999994|0.8660254037844387|\n",
      "|              9.4|       102|        8.9|        8.1|        7.1|  9.37142857142857|            11.9|             9.4| -0.7071067811865471| -0.7071067811865479|0.7818314824680298|0.6234898018587336|0.49999999999999994|0.8660254037844387|\n",
      "|              8.8|       102|        9.4|        8.9|        8.1| 8.828571428571427|            10.1|             8.8| -0.8660254037844384| -0.5000000000000004|0.7818314824680298|0.6234898018587336|0.49999999999999994|0.8660254037844387|\n",
      "|              7.6|       102|        8.8|        9.4|        8.9| 7.571428571428571|            14.7|             8.5| -0.9659258262890683|-0.25881904510252063|0.7818314824680298|0.6234898018587336|0.49999999999999994|0.8660254037844387|\n",
      "|              6.6|       102|        7.6|        8.8|        9.4|6.6428571428571415|             1.7|             7.7|                -1.0|-1.83697019872102...|0.7818314824680298|0.6234898018587336|0.49999999999999994|0.8660254037844387|\n",
      "|              6.1|       102|        6.6|        7.6|        8.8| 6.142857142857143|             1.1|             7.1| -0.9659258262890684|  0.2588190451025203|0.7818314824680298|0.6234898018587336|0.49999999999999994|0.8660254037844387|\n",
      "|              2.8|       102|        6.1|        6.6|        7.6|2.8428571428571425|             0.4|             5.5| 0.49999999999999994|  0.8660254037844387|0.7818314824680298|0.6234898018587336|0.49999999999999994|0.8660254037844387|\n",
      "|              5.6|       102|        2.8|        6.1|        6.6|5.6428571428571415|             1.0|             6.6| -0.8660254037844386|  0.5000000000000001|0.7818314824680298|0.6234898018587336|0.49999999999999994|0.8660254037844387|\n",
      "|              4.8|       102|        5.6|        2.8|        6.1| 4.814285714285715|             0.5|             5.8| -0.7071067811865477|  0.7071067811865474|0.7818314824680298|0.6234898018587336|0.49999999999999994|0.8660254037844387|\n",
      "|              3.8|       102|        4.8|        5.6|        2.8| 3.842857142857143|            -0.4|             9.3| -0.5000000000000004|  0.8660254037844384|0.7818314824680298|0.6234898018587336|0.49999999999999994|0.8660254037844387|\n",
      "|              3.4|       102|        3.8|        4.8|        5.6| 3.371428571428571|            -0.6|             8.6|-0.25881904510252157|  0.9659258262890681|0.7818314824680298|0.6234898018587336|0.49999999999999994|0.8660254037844387|\n",
      "|              2.4|       102|        3.4|        3.8|        4.8|               2.4|             0.0|             5.5|  0.7071067811865475|  0.7071067811865476|0.7818314824680298|0.6234898018587336|0.49999999999999994|0.8660254037844387|\n",
      "|              1.8|       102|        2.4|        3.4|        3.8|1.7714285714285716|            -0.1|             4.7|  0.8660254037844386|  0.5000000000000001|0.7818314824680298|0.6234898018587336|0.49999999999999994|0.8660254037844387|\n",
      "|              1.6|       102|        1.8|        2.4|        3.4|1.6142857142857143|            -0.5|             4.8|  0.9659258262890683| 0.25881904510252074|0.7818314824680298|0.6234898018587336|0.49999999999999994|0.8660254037844387|\n",
      "+-----------------+----------+-----------+-----------+-----------+------------------+----------------+----------------+--------------------+--------------------+------------------+------------------+-------------------+------------------+\n",
      "only showing top 20 rows\n",
      "\n"
     ]
    }
   ],
   "source": [
    "df.show(20)"
   ]
  },
  {
   "cell_type": "code",
   "execution_count": 8,
   "metadata": {},
   "outputs": [],
   "source": [
    "df_pandas = df.toPandas()"
   ]
  },
  {
   "cell_type": "code",
   "execution_count": 9,
   "metadata": {},
   "outputs": [],
   "source": [
    "def grid_search(y, X):\n",
    "    # Definir los rangos de p, d, q para buscar\n",
    "    p = range(0, 4)  # AR terms\n",
    "    d = range(0, 2)  # Differencing\n",
    "    q = range(0, 4)  # MA terms\n",
    "    \n",
    "    # Generar combinaciones de parámetros\n",
    "    pdq_combinations = list(itertools.product(p, d, q))\n",
    "    \n",
    "    # Almacenar resultados\n",
    "    best_aic = float(\"inf\")\n",
    "    best_order = None\n",
    "    results = []\n",
    "    \n",
    "    for order in pdq_combinations:\n",
    "        try:\n",
    "            model = ARIMA(y, exog=X, order=order, trend=None)\n",
    "            result = model.fit()\n",
    "            aic = result.aic\n",
    "            \n",
    "            results.append((order, aic))\n",
    "    \n",
    "            if aic < best_aic:\n",
    "                best_aic = aic\n",
    "                best_order = order\n",
    "    \n",
    "            print(f\"Probando orden {order} - AIC: {aic}\")\n",
    "    \n",
    "        except Exception as e:\n",
    "            print(f\"Error con orden {order}: {e}\")\n",
    "    return results"
   ]
  },
  {
   "cell_type": "code",
   "execution_count": 10,
   "metadata": {},
   "outputs": [],
   "source": [
    "def show_graphics(y, forecast):\n",
    "    # Limitar los datos históricos a los últimos 24 puntos\n",
    "    historical_data = y[-24:]\n",
    "    \n",
    "    # Limitar las predicciones a los primeros 24 puntos\n",
    "    forecast_data = forecast[:24]\n",
    "    \n",
    "    # Graficar los datos históricos (últimos 24 puntos)\n",
    "    plt.figure(figsize=(10, 6))\n",
    "    plt.plot(range(len(historical_data)), historical_data, label='Datos históricos', color='blue')\n",
    "    \n",
    "    # Graficar las predicciones (primeros 24 puntos)\n",
    "    plt.plot(range(len(historical_data), len(historical_data) + len(forecast_data)), forecast_data, label='Pronóstico', color='red', linestyle='--')\n",
    "    \n",
    "    # Añadir etiquetas y título\n",
    "    plt.title('Pronóstico con ARIMAX')\n",
    "    plt.xlabel('Tiempo')\n",
    "    plt.ylabel('Valor')\n",
    "    \n",
    "    # Mostrar leyenda\n",
    "    plt.legend()\n",
    "    \n",
    "    # Mostrar gráfico\n",
    "    plt.show()"
   ]
  },
  {
   "cell_type": "code",
   "execution_count": 11,
   "metadata": {},
   "outputs": [],
   "source": [
    "# Variables exógenas\n",
    "#exog_variables = ['temp_hora_1', 'temp_hora_2', 'temp_hora_3', 'temp_media_general', 'temp_min_general', 'temp_max_general']\n",
    "\n",
    "exog_variables = ['hora_sin', 'hora_cos', 'dia_sin', 'dia_cos', 'mes_sin', 'mes_cos']\n",
    "# Eliminar valores nulos o rellenar\n",
    "df_temps = df_pandas.dropna(subset=exog_variables + ['temperatura_media'])\n",
    "X = df_temps[exog_variables]\n",
    "y = df_temps['temperatura_media']\n",
    "\n",
    "# Asegurarse de que los datos sean numéricos\n",
    "X = X.astype(float)\n",
    "y = y.astype(float)"
   ]
  },
  {
   "cell_type": "code",
   "execution_count": 12,
   "metadata": {},
   "outputs": [
    {
     "name": "stdout",
     "output_type": "stream",
     "text": [
      "Probando orden (0, 0, 0) - AIC: 104831.52265234421\n",
      "Probando orden (0, 0, 1) - AIC: 88293.13411745694\n",
      "Probando orden (0, 0, 2) - AIC: 82058.97222458191\n",
      "Probando orden (0, 0, 3) - AIC: 75530.23333910086\n",
      "Probando orden (0, 1, 0) - AIC: 69488.28639158039\n",
      "Probando orden (0, 1, 1) - AIC: 68955.346084602\n",
      "Probando orden (0, 1, 2) - AIC: 68923.14261640036\n",
      "Probando orden (0, 1, 3) - AIC: 68913.37514220935\n",
      "Probando orden (1, 0, 0) - AIC: 68863.62127518037\n",
      "Probando orden (1, 0, 1) - AIC: 68554.1191563788\n"
     ]
    },
    {
     "name": "stderr",
     "output_type": "stream",
     "text": [
      "/opt/conda/lib/python3.12/site-packages/statsmodels/base/model.py:607: ConvergenceWarning: Maximum Likelihood optimization failed to converge. Check mle_retvals\n",
      "  warnings.warn(\"Maximum Likelihood optimization failed to \"\n"
     ]
    },
    {
     "name": "stdout",
     "output_type": "stream",
     "text": [
      "Probando orden (1, 0, 2) - AIC: 68553.50631523218\n"
     ]
    },
    {
     "name": "stderr",
     "output_type": "stream",
     "text": [
      "/opt/conda/lib/python3.12/site-packages/statsmodels/base/model.py:607: ConvergenceWarning: Maximum Likelihood optimization failed to converge. Check mle_retvals\n",
      "  warnings.warn(\"Maximum Likelihood optimization failed to \"\n"
     ]
    },
    {
     "name": "stdout",
     "output_type": "stream",
     "text": [
      "Probando orden (1, 0, 3) - AIC: 68555.1480881837\n",
      "Probando orden (1, 1, 0) - AIC: 69005.24346249488\n",
      "Probando orden (1, 1, 1) - AIC: 68479.33387258917\n",
      "Probando orden (1, 1, 2) - AIC: 68694.20289172784\n",
      "Probando orden (1, 1, 3) - AIC: 68695.07725112692\n",
      "Probando orden (2, 0, 0) - AIC: 68567.30734595716\n"
     ]
    },
    {
     "name": "stderr",
     "output_type": "stream",
     "text": [
      "/opt/conda/lib/python3.12/site-packages/statsmodels/base/model.py:607: ConvergenceWarning: Maximum Likelihood optimization failed to converge. Check mle_retvals\n",
      "  warnings.warn(\"Maximum Likelihood optimization failed to \"\n"
     ]
    },
    {
     "name": "stdout",
     "output_type": "stream",
     "text": [
      "Probando orden (2, 0, 1) - AIC: 68553.36388360077\n"
     ]
    },
    {
     "name": "stderr",
     "output_type": "stream",
     "text": [
      "/opt/conda/lib/python3.12/site-packages/statsmodels/base/model.py:607: ConvergenceWarning: Maximum Likelihood optimization failed to converge. Check mle_retvals\n",
      "  warnings.warn(\"Maximum Likelihood optimization failed to \"\n"
     ]
    },
    {
     "name": "stdout",
     "output_type": "stream",
     "text": [
      "Probando orden (2, 0, 2) - AIC: 68318.44722147952\n",
      "Probando orden (2, 0, 3) - AIC: 68292.4512029655\n",
      "Probando orden (2, 1, 0) - AIC: 68945.79599711398\n"
     ]
    },
    {
     "name": "stderr",
     "output_type": "stream",
     "text": [
      "/opt/conda/lib/python3.12/site-packages/statsmodels/base/model.py:607: ConvergenceWarning: Maximum Likelihood optimization failed to converge. Check mle_retvals\n",
      "  warnings.warn(\"Maximum Likelihood optimization failed to \"\n"
     ]
    },
    {
     "name": "stdout",
     "output_type": "stream",
     "text": [
      "Probando orden (2, 1, 1) - AIC: 68339.72295538087\n",
      "Probando orden (2, 1, 2) - AIC: 68679.30932230788\n"
     ]
    },
    {
     "name": "stderr",
     "output_type": "stream",
     "text": [
      "/opt/conda/lib/python3.12/site-packages/statsmodels/base/model.py:607: ConvergenceWarning: Maximum Likelihood optimization failed to converge. Check mle_retvals\n",
      "  warnings.warn(\"Maximum Likelihood optimization failed to \"\n"
     ]
    },
    {
     "name": "stdout",
     "output_type": "stream",
     "text": [
      "Probando orden (2, 1, 3) - AIC: 68364.59047716485\n",
      "Probando orden (3, 0, 0) - AIC: 68552.45019049184\n"
     ]
    },
    {
     "name": "stderr",
     "output_type": "stream",
     "text": [
      "/opt/conda/lib/python3.12/site-packages/statsmodels/base/model.py:607: ConvergenceWarning: Maximum Likelihood optimization failed to converge. Check mle_retvals\n",
      "  warnings.warn(\"Maximum Likelihood optimization failed to \"\n"
     ]
    },
    {
     "name": "stdout",
     "output_type": "stream",
     "text": [
      "Probando orden (3, 0, 1) - AIC: 68275.13519072055\n"
     ]
    },
    {
     "name": "stderr",
     "output_type": "stream",
     "text": [
      "/opt/conda/lib/python3.12/site-packages/statsmodels/tsa/statespace/sarimax.py:966: UserWarning: Non-stationary starting autoregressive parameters found. Using zeros as starting parameters.\n",
      "  warn('Non-stationary starting autoregressive parameters'\n",
      "/opt/conda/lib/python3.12/site-packages/statsmodels/tsa/statespace/sarimax.py:978: UserWarning: Non-invertible starting MA parameters found. Using zeros as starting parameters.\n",
      "  warn('Non-invertible starting MA parameters found.'\n",
      "/opt/conda/lib/python3.12/site-packages/statsmodels/base/model.py:607: ConvergenceWarning: Maximum Likelihood optimization failed to converge. Check mle_retvals\n",
      "  warnings.warn(\"Maximum Likelihood optimization failed to \"\n"
     ]
    },
    {
     "name": "stdout",
     "output_type": "stream",
     "text": [
      "Probando orden (3, 0, 2) - AIC: 68025.30009951355\n"
     ]
    },
    {
     "name": "stderr",
     "output_type": "stream",
     "text": [
      "/opt/conda/lib/python3.12/site-packages/statsmodels/base/model.py:607: ConvergenceWarning: Maximum Likelihood optimization failed to converge. Check mle_retvals\n",
      "  warnings.warn(\"Maximum Likelihood optimization failed to \"\n"
     ]
    },
    {
     "name": "stdout",
     "output_type": "stream",
     "text": [
      "Probando orden (3, 0, 3) - AIC: 67953.20535503066\n",
      "Probando orden (3, 1, 0) - AIC: 68947.40954571834\n",
      "Probando orden (3, 1, 1) - AIC: 68341.70594246555\n"
     ]
    },
    {
     "name": "stderr",
     "output_type": "stream",
     "text": [
      "/opt/conda/lib/python3.12/site-packages/statsmodels/base/model.py:607: ConvergenceWarning: Maximum Likelihood optimization failed to converge. Check mle_retvals\n",
      "  warnings.warn(\"Maximum Likelihood optimization failed to \"\n"
     ]
    },
    {
     "name": "stdout",
     "output_type": "stream",
     "text": [
      "Probando orden (3, 1, 2) - AIC: 68638.6540129079\n"
     ]
    },
    {
     "name": "stderr",
     "output_type": "stream",
     "text": [
      "/opt/conda/lib/python3.12/site-packages/statsmodels/tsa/statespace/sarimax.py:966: UserWarning: Non-stationary starting autoregressive parameters found. Using zeros as starting parameters.\n",
      "  warn('Non-stationary starting autoregressive parameters'\n",
      "/opt/conda/lib/python3.12/site-packages/statsmodels/tsa/statespace/sarimax.py:978: UserWarning: Non-invertible starting MA parameters found. Using zeros as starting parameters.\n",
      "  warn('Non-invertible starting MA parameters found.'\n"
     ]
    },
    {
     "name": "stdout",
     "output_type": "stream",
     "text": [
      "Probando orden (3, 1, 3) - AIC: 67745.64886737682\n",
      "\n",
      "Mejor orden encontrado (temps): (3, 1, 3) con AIC: 67745.64886737682\n"
     ]
    }
   ],
   "source": [
    "results = grid_search(y, X)\n",
    "results = sorted(results, key=lambda x: x[1])\n",
    "best_order, best_aic = results[0]\n",
    "\n",
    "print(f\"\\nMejor orden encontrado (temps): {best_order} con AIC: {best_aic}\")"
   ]
  },
  {
   "cell_type": "code",
   "execution_count": 18,
   "metadata": {},
   "outputs": [
    {
     "name": "stderr",
     "output_type": "stream",
     "text": [
      "/opt/conda/lib/python3.12/site-packages/statsmodels/tsa/statespace/sarimax.py:966: UserWarning: Non-stationary starting autoregressive parameters found. Using zeros as starting parameters.\n",
      "  warn('Non-stationary starting autoregressive parameters'\n",
      "/opt/conda/lib/python3.12/site-packages/statsmodels/tsa/statespace/sarimax.py:978: UserWarning: Non-invertible starting MA parameters found. Using zeros as starting parameters.\n",
      "  warn('Non-invertible starting MA parameters found.'\n"
     ]
    },
    {
     "name": "stdout",
     "output_type": "stream",
     "text": [
      "                               SARIMAX Results                                \n",
      "==============================================================================\n",
      "Dep. Variable:      temperatura_media   No. Observations:                18937\n",
      "Model:                 ARIMA(3, 1, 3)   Log Likelihood              -33859.824\n",
      "Date:                Sun, 09 Mar 2025   AIC                          67745.649\n",
      "Time:                        14:16:26   BIC                          67847.684\n",
      "Sample:                             0   HQIC                         67779.120\n",
      "                              - 18937                                         \n",
      "Covariance Type:                  opg                                         \n",
      "==============================================================================\n",
      "                 coef    std err          z      P>|z|      [0.025      0.975]\n",
      "------------------------------------------------------------------------------\n",
      "hora_sin      -3.4000      0.013   -256.871      0.000      -3.426      -3.374\n",
      "hora_cos      -0.3885      0.012    -32.244      0.000      -0.412      -0.365\n",
      "dia_sin       -0.1985      0.024     -8.212      0.000      -0.246      -0.151\n",
      "dia_cos       -0.0504      0.027     -1.842      0.066      -0.104       0.003\n",
      "mes_sin       -3.9500      0.424     -9.310      0.000      -4.782      -3.118\n",
      "mes_cos        0.8821      0.299      2.947      0.003       0.295       1.469\n",
      "ar.L1         -0.5133      0.008    -61.203      0.000      -0.530      -0.497\n",
      "ar.L2          0.2134      0.010     21.441      0.000       0.194       0.233\n",
      "ar.L3          0.8024      0.008    104.983      0.000       0.787       0.817\n",
      "ma.L1          0.3471      0.009     40.136      0.000       0.330       0.364\n",
      "ma.L2         -0.3805      0.009    -41.157      0.000      -0.399      -0.362\n",
      "ma.L3         -0.8447      0.008   -106.895      0.000      -0.860      -0.829\n",
      "sigma2         2.0924      0.011    189.792      0.000       2.071       2.114\n",
      "===================================================================================\n",
      "Ljung-Box (L1) (Q):                   4.26   Jarque-Bera (JB):             79126.44\n",
      "Prob(Q):                              0.04   Prob(JB):                         0.00\n",
      "Heteroskedasticity (H):               1.05   Skew:                             0.12\n",
      "Prob(H) (two-sided):                  0.06   Kurtosis:                        13.01\n",
      "===================================================================================\n",
      "\n",
      "Warnings:\n",
      "[1] Covariance matrix calculated using the outer product of gradients (complex-step).\n",
      "18937    3.482146\n",
      "18938    2.512876\n",
      "18939    2.645960\n",
      "18940    3.475749\n",
      "18941    4.353144\n",
      "18942    5.415494\n",
      "18943    6.069622\n",
      "18944    6.806318\n",
      "18945    7.347615\n",
      "18946    7.469933\n",
      "18947    7.641716\n",
      "18948    7.383938\n",
      "18949    2.119273\n",
      "18950    7.045608\n",
      "18951    6.310449\n",
      "18952    5.597274\n",
      "18953    4.798983\n",
      "18954    1.503781\n",
      "18955    1.156428\n",
      "18956    0.877479\n",
      "18957    0.813592\n",
      "18958    1.138175\n",
      "18959    1.479178\n",
      "18960    2.131478\n",
      "18961    3.927607\n",
      "18962    2.967337\n",
      "18963    2.943204\n",
      "18964    3.779736\n",
      "18965    4.627337\n",
      "18966    5.580269\n",
      "18967    6.289609\n",
      "18968    6.950706\n",
      "18969    7.454796\n",
      "18970    7.624376\n",
      "18971    7.703300\n",
      "18972    7.473419\n",
      "18973    2.212538\n",
      "18974    7.068375\n",
      "18975    6.392593\n",
      "18976    5.636930\n",
      "18977    4.816555\n",
      "18978    1.571262\n",
      "18979    1.159487\n",
      "18980    0.906537\n",
      "18981    0.855601\n",
      "18982    1.127394\n",
      "18983    1.519118\n",
      "18984    2.144510\n",
      "Name: predicted_mean, dtype: float64\n"
     ]
    }
   ],
   "source": [
    "best_model = ARIMA(y, exog=X, order=best_order)\n",
    "best_result = best_model.fit()\n",
    "\n",
    "# Mostrar resumen del modelo\n",
    "print(best_result.summary())\n",
    "forecast = best_result.forecast(steps=48, exog=X.tail(48))\n",
    "\n",
    "# Mostrar resultados\n",
    "print(forecast)"
   ]
  },
  {
   "cell_type": "code",
   "execution_count": 19,
   "metadata": {},
   "outputs": [
    {
     "data": {
      "image/png": "[encoded data removed]",
      "text/plain": [
       "<Figure size 1000x600 with 1 Axes>"
      ]
     },
     "metadata": {},
     "output_type": "display_data"
    }
   ],
   "source": [
    "show_graphics(y, forecast)"
   ]
  },
  {
   "cell_type": "code",
   "execution_count": null,
   "metadata": {},
   "outputs": [],
   "source": []
  },
  {
   "cell_type": "code",
   "execution_count": null,
   "metadata": {},
   "outputs": [],
   "source": []
  },
  {
   "cell_type": "code",
   "execution_count": null,
   "metadata": {},
   "outputs": [],
   "source": []
  }
 ],
 "metadata": {
  "kernelspec": {
   "display_name": "Python 3 (ipykernel)",
   "language": "python",
   "name": "python3"
  },
  "language_info": {
   "codemirror_mode": {
    "name": "ipython",
    "version": 3
   },
   "file_extension": ".py",
   "mimetype": "text/x-python",
   "name": "python",
   "nbconvert_exporter": "python",
   "pygments_lexer": "ipython3",
   "version": "3.12.8"
  }
 },
 "nbformat": 4,
 "nbformat_minor": 4
}
