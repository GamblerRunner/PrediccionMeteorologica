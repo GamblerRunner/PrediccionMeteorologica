{
 "cells": [
  {
   "cell_type": "code",
   "execution_count": null,
   "metadata": {},
   "outputs": [],
   "source": [
    "# docker run -p 8888:8888 -p 4040:4040 -v \"%cd%:/home/jovyan/work\" quay.io/jupyter/pyspark-notebook"
   ]
  },
  {
   "cell_type": "code",
   "execution_count": 66,
   "metadata": {},
   "outputs": [],
   "source": [
    "from pyspark.sql import SparkSession\n",
    "from pyspark.sql.window import Window\n",
    "import pyspark.sql.functions as F\n",
    "\n",
    "from pyspark.sql.functions import col, sin, cos, lit\n",
    "import math\n",
    "\n",
    "import itertools\n",
    "from statsmodels.tsa.statespace.sarimax import SARIMAX\n",
    "from statsmodels.tsa.arima.model import ARIMA\n",
    "\n",
    "import matplotlib.pyplot as plt"
   ]
  },
  {
   "cell_type": "code",
   "execution_count": 67,
   "metadata": {},
   "outputs": [
    {
     "name": "stdout",
     "output_type": "stream",
     "text": [
      "+----+-----+\n",
      "|anho|count|\n",
      "+----+-----+\n",
      "|2023| 8760|\n",
      "|2022| 8760|\n",
      "|2020| 8784|\n",
      "|2021| 8760|\n",
      "|2019| 8760|\n",
      "|2024| 8784|\n",
      "|2025| 1393|\n",
      "+----+-----+\n",
      "\n"
     ]
    }
   ],
   "source": [
    "spark = SparkSession.builder.appName(\"SeriesTemporales\").getOrCreate()\n",
    "# Leer archivo Parquet\n",
    "df = spark.read.parquet(\"../../data/transformed/madrid_data/parquet/\")\n",
    "df = df.orderBy([\"fecha\", \"hora\"])\n",
    "# Mostrar datos\n",
    "df.groupBy(\"anho\").count().show()"
   ]
  },
  {
   "cell_type": "code",
   "execution_count": 68,
   "metadata": {},
   "outputs": [],
   "source": [
    "# Definir ventana para obtener las 3 horas anteriores\n",
    "window_lag = Window.partitionBy(\"indicativo\", \"anho\", \"mes\", \"dia\").orderBy(\"hora\")\n",
    "\n",
    "# Agregar columnas de las 3 horas previas\n",
    "df = df.withColumn(\"humedad_hora_1\", F.lag(\"humedad_media\", 1).over(window_lag)) \\\n",
    "       .withColumn(\"humedad_hora_2\", F.lag(\"humedad_media\", 2).over(window_lag)) \\\n",
    "       .withColumn(\"humedad_hora_3\", F.lag(\"humedad_media\", 3).over(window_lag)) \\\n",
    "       .withColumn(\"temp_hora_1\", F.lag(\"temperatura_media\", 1).over(window_lag)) \\\n",
    "       .withColumn(\"temp_hora_2\", F.lag(\"temperatura_media\", 2).over(window_lag)) \\\n",
    "       .withColumn(\"temp_hora_3\", F.lag(\"temperatura_media\", 3).over(window_lag))"
   ]
  },
  {
   "cell_type": "code",
   "execution_count": 69,
   "metadata": {},
   "outputs": [],
   "source": [
    "# Calcular temperatura general por hora, día y mes en todo el DataFrame\n",
    "df_temp_stats = df.groupBy(\"hora\", \"dia\", \"mes\").agg(\n",
    "    F.avg(\"temperatura_media\").alias(\"temp_media_general\"),\n",
    "    F.min(\"temperatura_media\").alias(\"temp_min_general\"),\n",
    "    F.max(\"temperatura_media\").alias(\"temp_max_general\")\n",
    ")\n",
    "# Unir las estadísticas generales al DataFrame original\n",
    "df = df.join(df_temp_stats, on=[\"hora\", \"dia\", \"mes\"], how=\"left\")"
   ]
  },
  {
   "cell_type": "code",
   "execution_count": 70,
   "metadata": {},
   "outputs": [],
   "source": [
    "# Calcular temperatura general por hora, día y mes en todo el DataFrame\n",
    "df_humidity_stats = df.groupBy(\"hora\", \"dia\", \"mes\").agg(\n",
    "    F.avg(\"humedad_media\").alias(\"humedad_media_general\"),\n",
    "    F.min(\"humedad_media\").alias(\"humedad_min_general\"),\n",
    "    F.max(\"humedad_media\").alias(\"humedad_max_general\")\n",
    ")\n",
    "# Unir las estadísticas generales al DataFrame original\n",
    "df = df.join(df_humidity_stats, on=[\"hora\", \"dia\", \"mes\"], how=\"left\")"
   ]
  },
  {
   "cell_type": "code",
   "execution_count": 71,
   "metadata": {},
   "outputs": [
    {
     "name": "stdout",
     "output_type": "stream",
     "text": [
      "+----+---+---+----------+-------------+-----------------+----------+----+--------------+--------------+--------------+-----------+-----------+-----------+------------------+----------------+----------------+---------------------+-------------------+-------------------+\n",
      "|hora|dia|mes|fecha     |humedad_media|temperatura_media|indicativo|anho|humedad_hora_1|humedad_hora_2|humedad_hora_3|temp_hora_1|temp_hora_2|temp_hora_3|temp_media_general|temp_min_general|temp_max_general|humedad_media_general|humedad_min_general|humedad_max_general|\n",
      "+----+---+---+----------+-------------+-----------------+----------+----+--------------+--------------+--------------+-----------+-----------+-----------+------------------+----------------+----------------+---------------------+-------------------+-------------------+\n",
      "|0   |1  |1  |2023-01-01|72.0         |3.4              |102       |2023|NULL          |NULL          |NULL          |NULL       |NULL       |NULL       |3.4285714285714284|0.6             |6.9             |72.0                 |50.0               |89.0               |\n",
      "|1   |1  |1  |2023-01-01|72.0         |3.0              |102       |2023|72.0          |NULL          |NULL          |3.4        |NULL       |NULL       |3.0               |0.6             |6.3             |72.0                 |49.0               |84.0               |\n",
      "|10  |1  |1  |2023-01-01|60.7         |4.0              |102       |2023|72.0          |72.0          |NULL          |3.0        |3.4        |NULL       |3.9857142857142853|1.9             |8.6             |60.67142857142857    |47.0               |78.0               |\n",
      "|11  |1  |1  |2023-01-01|55.3         |5.6              |102       |2023|60.7          |72.0          |72.0          |4.0        |3.0        |3.4        |5.571428571428571 |3.1             |9.6             |55.32857142857143    |39.0               |75.0               |\n",
      "|12  |1  |1  |2023-01-01|51.0         |7.1              |102       |2023|55.3          |60.7          |72.0          |5.6        |4.0        |3.0        |7.128571428571428 |11.6            |7.8             |51.0                 |34.0               |75.0               |\n",
      "|13  |1  |1  |2023-01-01|48.8         |8.1              |102       |2023|51.0          |55.3          |60.7          |7.1        |5.6        |4.0        |8.142857142857142 |10.1            |8.7             |48.82857142857143    |31.0               |77.0               |\n",
      "|14  |1  |1  |2023-01-01|47.0         |8.9              |102       |2023|48.8          |51.0          |55.3          |8.1        |7.1        |5.6        |8.914285714285715 |10.4            |9.1             |47.0                 |31.0               |63.0               |\n",
      "|15  |1  |1  |2023-01-01|46.8         |9.4              |102       |2023|47.0          |48.8          |51.0          |8.9        |8.1        |7.1        |9.37142857142857  |11.9            |9.4             |46.82857142857143    |27.0               |62.0               |\n",
      "|16  |1  |1  |2023-01-01|47.7         |8.8              |102       |2023|46.8          |47.0          |48.8          |9.4        |8.9        |8.1        |8.828571428571427 |10.1            |8.8             |47.67142857142857    |28.0               |60.0               |\n",
      "|17  |1  |1  |2023-01-01|51.7         |7.6              |102       |2023|47.7          |46.8          |47.0          |8.8        |9.4        |8.9        |7.571428571428571 |14.7            |8.5             |51.67142857142857    |32.0               |67.0               |\n",
      "|18  |1  |1  |2023-01-01|54.5         |6.6              |102       |2023|51.7          |47.7          |46.8          |7.6        |8.8        |9.4        |6.6428571428571415|1.7             |7.7             |54.5                 |34.0               |73.0               |\n",
      "|19  |1  |1  |2023-01-01|57.0         |6.1              |102       |2023|54.5          |51.7          |47.7          |6.6        |7.6        |8.8        |6.142857142857143 |1.1             |7.1             |57.0                 |34.0               |73.0               |\n",
      "|2   |1  |1  |2023-01-01|71.3         |2.8              |102       |2023|57.0          |54.5          |51.7          |6.1        |6.6        |7.6        |2.8428571428571425|0.4             |5.5             |71.32857142857144    |46.0               |84.0               |\n",
      "|20  |1  |1  |2023-01-01|61.5         |5.6              |102       |2023|71.3          |57.0          |54.5          |2.8        |6.1        |6.6        |5.6428571428571415|1.0             |6.6             |61.5                 |43.0               |80.0               |\n",
      "|21  |1  |1  |2023-01-01|65.8         |4.8              |102       |2023|61.5          |71.3          |57.0          |5.6        |2.8        |6.1        |4.814285714285715 |0.5             |5.8             |65.82857142857144    |49.0               |84.0               |\n",
      "|22  |1  |1  |2023-01-01|69.8         |3.8              |102       |2023|65.8          |61.5          |71.3          |4.8        |5.6        |2.8        |3.842857142857143 |-0.4            |9.3             |69.82857142857144    |53.0               |87.0               |\n",
      "|23  |1  |1  |2023-01-01|69.5         |3.4              |102       |2023|69.8          |65.8          |61.5          |3.8        |4.8        |5.6        |3.371428571428571 |-0.6            |8.6             |69.5                 |52.0               |87.0               |\n",
      "|3   |1  |1  |2023-01-01|72.2         |2.4              |102       |2023|69.5          |69.8          |65.8          |3.4        |3.8        |4.8        |2.4               |0.0             |5.5             |72.17142857142856    |51.0               |83.0               |\n",
      "|4   |1  |1  |2023-01-01|74.0         |1.8              |102       |2023|72.2          |69.5          |69.8          |2.4        |3.4        |3.8        |1.7714285714285716|-0.1            |4.7             |74.0                 |56.0               |83.0               |\n",
      "|5   |1  |1  |2023-01-01|72.3         |1.6              |102       |2023|74.0          |72.2          |69.5          |1.8        |2.4        |3.4        |1.6142857142857143|-0.5            |4.8             |72.32857142857144    |53.0               |81.0               |\n",
      "+----+---+---+----------+-------------+-----------------+----------+----+--------------+--------------+--------------+-----------+-----------+-----------+------------------+----------------+----------------+---------------------+-------------------+-------------------+\n",
      "only showing top 20 rows\n",
      "\n"
     ]
    }
   ],
   "source": [
    "df = df.filter(df[\"anho\"] >= 2023)\n",
    "df.show(20, truncate=False)"
   ]
  },
  {
   "cell_type": "code",
   "execution_count": 72,
   "metadata": {},
   "outputs": [],
   "source": [
    "# Agregar columnas de seno y coseno\n",
    "df = df.withColumn(\"hora_sin\", sin(2 * math.pi * col(\"hora\") / lit(24)))\n",
    "df = df.withColumn(\"hora_cos\", cos(2 * math.pi * col(\"hora\") / lit(24)))\n",
    "df = df.withColumn(\"dia_sin\", sin(2 * math.pi * col(\"dia\") / lit(7)))\n",
    "df = df.withColumn(\"dia_cos\", cos(2 * math.pi * col(\"dia\") / lit(7)))\n",
    "df = df.withColumn(\"mes_sin\", sin(2 * math.pi * col(\"mes\") / lit(12)))\n",
    "df = df.withColumn(\"mes_cos\", cos(2 * math.pi * col(\"mes\") / lit(12)))\n",
    "\n",
    "df = df.drop(\"hora\", \"dia\", \"mes\")"
   ]
  },
  {
   "cell_type": "code",
   "execution_count": 73,
   "metadata": {},
   "outputs": [
    {
     "name": "stdout",
     "output_type": "stream",
     "text": [
      "+----------+-------------+-----------------+----------+----+--------------+--------------+--------------+-----------+-----------+-----------+------------------+----------------+----------------+---------------------+-------------------+-------------------+--------------------+--------------------+------------------+------------------+-------------------+------------------+\n",
      "|     fecha|humedad_media|temperatura_media|indicativo|anho|humedad_hora_1|humedad_hora_2|humedad_hora_3|temp_hora_1|temp_hora_2|temp_hora_3|temp_media_general|temp_min_general|temp_max_general|humedad_media_general|humedad_min_general|humedad_max_general|            hora_sin|            hora_cos|           dia_sin|           dia_cos|            mes_sin|           mes_cos|\n",
      "+----------+-------------+-----------------+----------+----+--------------+--------------+--------------+-----------+-----------+-----------+------------------+----------------+----------------+---------------------+-------------------+-------------------+--------------------+--------------------+------------------+------------------+-------------------+------------------+\n",
      "|2023-01-01|         72.0|              3.4|       102|2023|          NULL|          NULL|          NULL|       NULL|       NULL|       NULL|3.4285714285714284|             0.6|             6.9|                 72.0|               50.0|               89.0|                 0.0|                 1.0|0.7818314824680298|0.6234898018587336|0.49999999999999994|0.8660254037844387|\n",
      "|2023-01-01|         72.0|              3.0|       102|2023|          72.0|          NULL|          NULL|        3.4|       NULL|       NULL|               3.0|             0.6|             6.3|                 72.0|               49.0|               84.0| 0.25881904510252074|  0.9659258262890683|0.7818314824680298|0.6234898018587336|0.49999999999999994|0.8660254037844387|\n",
      "|2023-01-01|         60.7|              4.0|       102|2023|          72.0|          72.0|          NULL|        3.0|        3.4|       NULL|3.9857142857142853|             1.9|             8.6|    60.67142857142857|               47.0|               78.0| 0.49999999999999994| -0.8660254037844387|0.7818314824680298|0.6234898018587336|0.49999999999999994|0.8660254037844387|\n",
      "|2023-01-01|         55.3|              5.6|       102|2023|          60.7|          72.0|          72.0|        4.0|        3.0|        3.4| 5.571428571428571|             3.1|             9.6|    55.32857142857143|               39.0|               75.0|   0.258819045102521| -0.9659258262890682|0.7818314824680298|0.6234898018587336|0.49999999999999994|0.8660254037844387|\n",
      "|2023-01-01|         51.0|              7.1|       102|2023|          55.3|          60.7|          72.0|        5.6|        4.0|        3.0| 7.128571428571428|            11.6|             7.8|                 51.0|               34.0|               75.0|1.224646799147353...|                -1.0|0.7818314824680298|0.6234898018587336|0.49999999999999994|0.8660254037844387|\n",
      "|2023-01-01|         48.8|              8.1|       102|2023|          51.0|          55.3|          60.7|        7.1|        5.6|        4.0| 8.142857142857142|            10.1|             8.7|    48.82857142857143|               31.0|               77.0| -0.2588190451025208| -0.9659258262890683|0.7818314824680298|0.6234898018587336|0.49999999999999994|0.8660254037844387|\n",
      "|2023-01-01|         47.0|              8.9|       102|2023|          48.8|          51.0|          55.3|        8.1|        7.1|        5.6| 8.914285714285715|            10.4|             9.1|                 47.0|               31.0|               63.0| -0.4999999999999997| -0.8660254037844388|0.7818314824680298|0.6234898018587336|0.49999999999999994|0.8660254037844387|\n",
      "|2023-01-01|         46.8|              9.4|       102|2023|          47.0|          48.8|          51.0|        8.9|        8.1|        7.1|  9.37142857142857|            11.9|             9.4|    46.82857142857143|               27.0|               62.0| -0.7071067811865471| -0.7071067811865479|0.7818314824680298|0.6234898018587336|0.49999999999999994|0.8660254037844387|\n",
      "|2023-01-01|         47.7|              8.8|       102|2023|          46.8|          47.0|          48.8|        9.4|        8.9|        8.1| 8.828571428571427|            10.1|             8.8|    47.67142857142857|               28.0|               60.0| -0.8660254037844384| -0.5000000000000004|0.7818314824680298|0.6234898018587336|0.49999999999999994|0.8660254037844387|\n",
      "|2023-01-01|         51.7|              7.6|       102|2023|          47.7|          46.8|          47.0|        8.8|        9.4|        8.9| 7.571428571428571|            14.7|             8.5|    51.67142857142857|               32.0|               67.0| -0.9659258262890683|-0.25881904510252063|0.7818314824680298|0.6234898018587336|0.49999999999999994|0.8660254037844387|\n",
      "|2023-01-01|         54.5|              6.6|       102|2023|          51.7|          47.7|          46.8|        7.6|        8.8|        9.4|6.6428571428571415|             1.7|             7.7|                 54.5|               34.0|               73.0|                -1.0|-1.83697019872102...|0.7818314824680298|0.6234898018587336|0.49999999999999994|0.8660254037844387|\n",
      "|2023-01-01|         57.0|              6.1|       102|2023|          54.5|          51.7|          47.7|        6.6|        7.6|        8.8| 6.142857142857143|             1.1|             7.1|                 57.0|               34.0|               73.0| -0.9659258262890684|  0.2588190451025203|0.7818314824680298|0.6234898018587336|0.49999999999999994|0.8660254037844387|\n",
      "|2023-01-01|         71.3|              2.8|       102|2023|          57.0|          54.5|          51.7|        6.1|        6.6|        7.6|2.8428571428571425|             0.4|             5.5|    71.32857142857144|               46.0|               84.0| 0.49999999999999994|  0.8660254037844387|0.7818314824680298|0.6234898018587336|0.49999999999999994|0.8660254037844387|\n",
      "|2023-01-01|         61.5|              5.6|       102|2023|          71.3|          57.0|          54.5|        2.8|        6.1|        6.6|5.6428571428571415|             1.0|             6.6|                 61.5|               43.0|               80.0| -0.8660254037844386|  0.5000000000000001|0.7818314824680298|0.6234898018587336|0.49999999999999994|0.8660254037844387|\n",
      "|2023-01-01|         65.8|              4.8|       102|2023|          61.5|          71.3|          57.0|        5.6|        2.8|        6.1| 4.814285714285715|             0.5|             5.8|    65.82857142857144|               49.0|               84.0| -0.7071067811865477|  0.7071067811865474|0.7818314824680298|0.6234898018587336|0.49999999999999994|0.8660254037844387|\n",
      "|2023-01-01|         69.8|              3.8|       102|2023|          65.8|          61.5|          71.3|        4.8|        5.6|        2.8| 3.842857142857143|            -0.4|             9.3|    69.82857142857144|               53.0|               87.0| -0.5000000000000004|  0.8660254037844384|0.7818314824680298|0.6234898018587336|0.49999999999999994|0.8660254037844387|\n",
      "|2023-01-01|         69.5|              3.4|       102|2023|          69.8|          65.8|          61.5|        3.8|        4.8|        5.6| 3.371428571428571|            -0.6|             8.6|                 69.5|               52.0|               87.0|-0.25881904510252157|  0.9659258262890681|0.7818314824680298|0.6234898018587336|0.49999999999999994|0.8660254037844387|\n",
      "|2023-01-01|         72.2|              2.4|       102|2023|          69.5|          69.8|          65.8|        3.4|        3.8|        4.8|               2.4|             0.0|             5.5|    72.17142857142856|               51.0|               83.0|  0.7071067811865475|  0.7071067811865476|0.7818314824680298|0.6234898018587336|0.49999999999999994|0.8660254037844387|\n",
      "|2023-01-01|         74.0|              1.8|       102|2023|          72.2|          69.5|          69.8|        2.4|        3.4|        3.8|1.7714285714285716|            -0.1|             4.7|                 74.0|               56.0|               83.0|  0.8660254037844386|  0.5000000000000001|0.7818314824680298|0.6234898018587336|0.49999999999999994|0.8660254037844387|\n",
      "|2023-01-01|         72.3|              1.6|       102|2023|          74.0|          72.2|          69.5|        1.8|        2.4|        3.4|1.6142857142857143|            -0.5|             4.8|    72.32857142857144|               53.0|               81.0|  0.9659258262890683| 0.25881904510252074|0.7818314824680298|0.6234898018587336|0.49999999999999994|0.8660254037844387|\n",
      "+----------+-------------+-----------------+----------+----+--------------+--------------+--------------+-----------+-----------+-----------+------------------+----------------+----------------+---------------------+-------------------+-------------------+--------------------+--------------------+------------------+------------------+-------------------+------------------+\n",
      "only showing top 20 rows\n",
      "\n"
     ]
    }
   ],
   "source": [
    "df.show(20)"
   ]
  },
  {
   "cell_type": "code",
   "execution_count": 74,
   "metadata": {},
   "outputs": [],
   "source": [
    "df_pandas = df.toPandas()"
   ]
  },
  {
   "cell_type": "code",
   "execution_count": 75,
   "metadata": {},
   "outputs": [],
   "source": [
    "def grid_search(y, X):\n",
    "    # Definir los rangos de p, d, q para buscar\n",
    "    p = range(0, 4)  # AR terms\n",
    "    d = range(0, 2)  # Differencing\n",
    "    q = range(0, 4)  # MA terms\n",
    "    \n",
    "    # Generar combinaciones de parámetros\n",
    "    pdq_combinations = list(itertools.product(p, d, q))\n",
    "    \n",
    "    # Almacenar resultados\n",
    "    best_aic = float(\"inf\")\n",
    "    best_order = None\n",
    "    results = []\n",
    "    \n",
    "    for order in pdq_combinations:\n",
    "        try:\n",
    "            model = ARIMA(y, exog=X, order=order)\n",
    "            result = model.fit()\n",
    "            aic = result.aic\n",
    "            \n",
    "            results.append((order, aic))\n",
    "    \n",
    "            if aic < best_aic:\n",
    "                best_aic = aic\n",
    "                best_order = order\n",
    "    \n",
    "            print(f\"Probando orden {order} - AIC: {aic}\")\n",
    "    \n",
    "        except Exception as e:\n",
    "            print(f\"Error con orden {order}: {e}\")\n",
    "    return results"
   ]
  },
  {
   "cell_type": "code",
   "execution_count": 85,
   "metadata": {},
   "outputs": [],
   "source": [
    "def show_graphics(y, forecast):\n",
    "    # Limitar los datos históricos a los últimos 24 puntos\n",
    "    historical_data = y[-24:]\n",
    "    \n",
    "    # Limitar las predicciones a los primeros 24 puntos\n",
    "    forecast_data = forecast[:24]\n",
    "    \n",
    "    # Graficar los datos históricos (últimos 24 puntos)\n",
    "    plt.figure(figsize=(10, 6))\n",
    "    plt.plot(range(len(historical_data)), historical_data, label='Datos históricos', color='blue')\n",
    "    \n",
    "    # Graficar las predicciones (primeros 24 puntos)\n",
    "    plt.plot(range(len(historical_data), len(historical_data) + len(forecast_data)), forecast_data, label='Pronóstico', color='red', linestyle='--')\n",
    "    \n",
    "    # Añadir etiquetas y título\n",
    "    plt.title('Pronóstico con SARIMAX')\n",
    "    plt.xlabel('Tiempo')\n",
    "    plt.ylabel('Valor')\n",
    "    \n",
    "    # Mostrar leyenda\n",
    "    plt.legend()\n",
    "    \n",
    "    # Mostrar gráfico\n",
    "    plt.show()"
   ]
  },
  {
   "cell_type": "code",
   "execution_count": 90,
   "metadata": {},
   "outputs": [],
   "source": [
    "# Variables exógenas\n",
    "#exog_variables = ['temp_hora_1', 'temp_hora_2', 'temp_hora_3', 'temp_media_general', 'temp_min_general', 'temp_max_general']\n",
    "\n",
    "exog_variables = ['hora_sin', 'hora_cos', 'dia_sin', 'dia_cos', 'mes_sin', 'mes_cos']\n",
    "# Eliminar valores nulos o rellenar\n",
    "df_pandas_clean = df_pandas.dropna(subset=exog_variables + ['temperatura_media'])\n",
    "df_temps = df_pandas_clean.drop(columns=['humedad_hora_1', 'humedad_hora_2', 'humedad_hora_3', 'humedad_media_general', 'humedad_min_general', 'humedad_max_general', 'humedad_media'])\n",
    "X = df_temps[exog_variables]\n",
    "y = df_temps['temperatura_media']\n",
    "\n",
    "# Asegurarse de que los datos sean numéricos\n",
    "X = X.astype(float)\n",
    "y = y.astype(float)"
   ]
  },
  {
   "cell_type": "code",
   "execution_count": 78,
   "metadata": {},
   "outputs": [
    {
     "name": "stdout",
     "output_type": "stream",
     "text": [
      "Probando orden (0, 0, 0) - AIC: 104831.52265234421\n",
      "Probando orden (0, 0, 1) - AIC: 88293.13411745694\n",
      "Probando orden (0, 0, 2) - AIC: 82058.97222458191\n",
      "Probando orden (0, 0, 3) - AIC: 75530.23333910086\n",
      "Probando orden (0, 1, 0) - AIC: 69488.28639158039\n",
      "Probando orden (0, 1, 1) - AIC: 68955.346084602\n",
      "Probando orden (0, 1, 2) - AIC: 68923.14261640036\n",
      "Probando orden (0, 1, 3) - AIC: 68913.37514220935\n",
      "Probando orden (1, 0, 0) - AIC: 68863.62127518037\n",
      "Probando orden (1, 0, 1) - AIC: 68554.1191563788\n"
     ]
    },
    {
     "name": "stderr",
     "output_type": "stream",
     "text": [
      "/opt/conda/lib/python3.12/site-packages/statsmodels/base/model.py:607: ConvergenceWarning: Maximum Likelihood optimization failed to converge. Check mle_retvals\n",
      "  warnings.warn(\"Maximum Likelihood optimization failed to \"\n"
     ]
    },
    {
     "name": "stdout",
     "output_type": "stream",
     "text": [
      "Probando orden (1, 0, 2) - AIC: 68553.50631523218\n"
     ]
    },
    {
     "name": "stderr",
     "output_type": "stream",
     "text": [
      "/opt/conda/lib/python3.12/site-packages/statsmodels/base/model.py:607: ConvergenceWarning: Maximum Likelihood optimization failed to converge. Check mle_retvals\n",
      "  warnings.warn(\"Maximum Likelihood optimization failed to \"\n"
     ]
    },
    {
     "name": "stdout",
     "output_type": "stream",
     "text": [
      "Probando orden (1, 0, 3) - AIC: 68555.1480881837\n",
      "Probando orden (1, 1, 0) - AIC: 69005.24346249488\n",
      "Probando orden (1, 1, 1) - AIC: 68479.33387258917\n",
      "Probando orden (1, 1, 2) - AIC: 68694.20289172784\n",
      "Probando orden (1, 1, 3) - AIC: 68695.07725112692\n",
      "Probando orden (2, 0, 0) - AIC: 68567.30734595716\n"
     ]
    },
    {
     "name": "stderr",
     "output_type": "stream",
     "text": [
      "/opt/conda/lib/python3.12/site-packages/statsmodels/base/model.py:607: ConvergenceWarning: Maximum Likelihood optimization failed to converge. Check mle_retvals\n",
      "  warnings.warn(\"Maximum Likelihood optimization failed to \"\n"
     ]
    },
    {
     "name": "stdout",
     "output_type": "stream",
     "text": [
      "Probando orden (2, 0, 1) - AIC: 68553.36388360077\n"
     ]
    },
    {
     "name": "stderr",
     "output_type": "stream",
     "text": [
      "/opt/conda/lib/python3.12/site-packages/statsmodels/base/model.py:607: ConvergenceWarning: Maximum Likelihood optimization failed to converge. Check mle_retvals\n",
      "  warnings.warn(\"Maximum Likelihood optimization failed to \"\n"
     ]
    },
    {
     "name": "stdout",
     "output_type": "stream",
     "text": [
      "Probando orden (2, 0, 2) - AIC: 68318.44722147952\n",
      "Probando orden (2, 0, 3) - AIC: 68292.4512029655\n",
      "Probando orden (2, 1, 0) - AIC: 68945.79599711398\n"
     ]
    },
    {
     "name": "stderr",
     "output_type": "stream",
     "text": [
      "/opt/conda/lib/python3.12/site-packages/statsmodels/base/model.py:607: ConvergenceWarning: Maximum Likelihood optimization failed to converge. Check mle_retvals\n",
      "  warnings.warn(\"Maximum Likelihood optimization failed to \"\n"
     ]
    },
    {
     "name": "stdout",
     "output_type": "stream",
     "text": [
      "Probando orden (2, 1, 1) - AIC: 68339.72295538087\n",
      "Probando orden (2, 1, 2) - AIC: 68679.30932230788\n"
     ]
    },
    {
     "name": "stderr",
     "output_type": "stream",
     "text": [
      "/opt/conda/lib/python3.12/site-packages/statsmodels/base/model.py:607: ConvergenceWarning: Maximum Likelihood optimization failed to converge. Check mle_retvals\n",
      "  warnings.warn(\"Maximum Likelihood optimization failed to \"\n"
     ]
    },
    {
     "name": "stdout",
     "output_type": "stream",
     "text": [
      "Probando orden (2, 1, 3) - AIC: 68364.59047716485\n",
      "Probando orden (3, 0, 0) - AIC: 68552.45019049184\n"
     ]
    },
    {
     "name": "stderr",
     "output_type": "stream",
     "text": [
      "/opt/conda/lib/python3.12/site-packages/statsmodels/base/model.py:607: ConvergenceWarning: Maximum Likelihood optimization failed to converge. Check mle_retvals\n",
      "  warnings.warn(\"Maximum Likelihood optimization failed to \"\n"
     ]
    },
    {
     "name": "stdout",
     "output_type": "stream",
     "text": [
      "Probando orden (3, 0, 1) - AIC: 68275.13519072055\n"
     ]
    },
    {
     "name": "stderr",
     "output_type": "stream",
     "text": [
      "/opt/conda/lib/python3.12/site-packages/statsmodels/tsa/statespace/sarimax.py:966: UserWarning: Non-stationary starting autoregressive parameters found. Using zeros as starting parameters.\n",
      "  warn('Non-stationary starting autoregressive parameters'\n",
      "/opt/conda/lib/python3.12/site-packages/statsmodels/tsa/statespace/sarimax.py:978: UserWarning: Non-invertible starting MA parameters found. Using zeros as starting parameters.\n",
      "  warn('Non-invertible starting MA parameters found.'\n",
      "/opt/conda/lib/python3.12/site-packages/statsmodels/base/model.py:607: ConvergenceWarning: Maximum Likelihood optimization failed to converge. Check mle_retvals\n",
      "  warnings.warn(\"Maximum Likelihood optimization failed to \"\n"
     ]
    },
    {
     "name": "stdout",
     "output_type": "stream",
     "text": [
      "Probando orden (3, 0, 2) - AIC: 68025.30009951355\n"
     ]
    },
    {
     "name": "stderr",
     "output_type": "stream",
     "text": [
      "/opt/conda/lib/python3.12/site-packages/statsmodels/base/model.py:607: ConvergenceWarning: Maximum Likelihood optimization failed to converge. Check mle_retvals\n",
      "  warnings.warn(\"Maximum Likelihood optimization failed to \"\n"
     ]
    },
    {
     "name": "stdout",
     "output_type": "stream",
     "text": [
      "Probando orden (3, 0, 3) - AIC: 67953.20535503066\n",
      "Probando orden (3, 1, 0) - AIC: 68947.40954571834\n",
      "Probando orden (3, 1, 1) - AIC: 68341.70594246555\n"
     ]
    },
    {
     "name": "stderr",
     "output_type": "stream",
     "text": [
      "/opt/conda/lib/python3.12/site-packages/statsmodels/base/model.py:607: ConvergenceWarning: Maximum Likelihood optimization failed to converge. Check mle_retvals\n",
      "  warnings.warn(\"Maximum Likelihood optimization failed to \"\n"
     ]
    },
    {
     "name": "stdout",
     "output_type": "stream",
     "text": [
      "Probando orden (3, 1, 2) - AIC: 68638.6540129079\n"
     ]
    },
    {
     "name": "stderr",
     "output_type": "stream",
     "text": [
      "/opt/conda/lib/python3.12/site-packages/statsmodels/tsa/statespace/sarimax.py:966: UserWarning: Non-stationary starting autoregressive parameters found. Using zeros as starting parameters.\n",
      "  warn('Non-stationary starting autoregressive parameters'\n",
      "/opt/conda/lib/python3.12/site-packages/statsmodels/tsa/statespace/sarimax.py:978: UserWarning: Non-invertible starting MA parameters found. Using zeros as starting parameters.\n",
      "  warn('Non-invertible starting MA parameters found.'\n"
     ]
    },
    {
     "name": "stdout",
     "output_type": "stream",
     "text": [
      "Probando orden (3, 1, 3) - AIC: 67745.64886737682\n",
      "\n",
      "Mejor orden encontrado (temps): (3, 1, 3) con AIC: 67745.64886737682\n"
     ]
    }
   ],
   "source": [
    "# Ordenar resultados por AIC\n",
    "results = grid_search(y, X)\n",
    "results = sorted(results, key=lambda x: x[1])\n",
    "best_order, best_aic = results[0]\n",
    "\n",
    "print(f\"\\nMejor orden encontrado (temps): {best_order} con AIC: {best_aic}\")"
   ]
  },
  {
   "cell_type": "code",
   "execution_count": 91,
   "metadata": {},
   "outputs": [
    {
     "name": "stderr",
     "output_type": "stream",
     "text": [
      "/opt/conda/lib/python3.12/site-packages/statsmodels/tsa/statespace/sarimax.py:966: UserWarning: Non-stationary starting autoregressive parameters found. Using zeros as starting parameters.\n",
      "  warn('Non-stationary starting autoregressive parameters'\n",
      "/opt/conda/lib/python3.12/site-packages/statsmodels/tsa/statespace/sarimax.py:978: UserWarning: Non-invertible starting MA parameters found. Using zeros as starting parameters.\n",
      "  warn('Non-invertible starting MA parameters found.'\n"
     ]
    },
    {
     "name": "stdout",
     "output_type": "stream",
     "text": [
      "                               SARIMAX Results                                \n",
      "==============================================================================\n",
      "Dep. Variable:      temperatura_media   No. Observations:                18937\n",
      "Model:                 ARIMA(3, 1, 3)   Log Likelihood              -33859.824\n",
      "Date:                Sun, 09 Mar 2025   AIC                          67745.649\n",
      "Time:                        13:39:19   BIC                          67847.684\n",
      "Sample:                             0   HQIC                         67779.120\n",
      "                              - 18937                                         \n",
      "Covariance Type:                  opg                                         \n",
      "==============================================================================\n",
      "                 coef    std err          z      P>|z|      [0.025      0.975]\n",
      "------------------------------------------------------------------------------\n",
      "hora_sin      -3.4000      0.013   -256.871      0.000      -3.426      -3.374\n",
      "hora_cos      -0.3885      0.012    -32.244      0.000      -0.412      -0.365\n",
      "dia_sin       -0.1985      0.024     -8.212      0.000      -0.246      -0.151\n",
      "dia_cos       -0.0504      0.027     -1.842      0.066      -0.104       0.003\n",
      "mes_sin       -3.9500      0.424     -9.310      0.000      -4.782      -3.118\n",
      "mes_cos        0.8821      0.299      2.947      0.003       0.295       1.469\n",
      "ar.L1         -0.5133      0.008    -61.203      0.000      -0.530      -0.497\n",
      "ar.L2          0.2134      0.010     21.441      0.000       0.194       0.233\n",
      "ar.L3          0.8024      0.008    104.983      0.000       0.787       0.817\n",
      "ma.L1          0.3471      0.009     40.136      0.000       0.330       0.364\n",
      "ma.L2         -0.3805      0.009    -41.157      0.000      -0.399      -0.362\n",
      "ma.L3         -0.8447      0.008   -106.895      0.000      -0.860      -0.829\n",
      "sigma2         2.0924      0.011    189.792      0.000       2.071       2.114\n",
      "===================================================================================\n",
      "Ljung-Box (L1) (Q):                   4.26   Jarque-Bera (JB):             79126.44\n",
      "Prob(Q):                              0.04   Prob(JB):                         0.00\n",
      "Heteroskedasticity (H):               1.05   Skew:                             0.12\n",
      "Prob(H) (two-sided):                  0.06   Kurtosis:                        13.01\n",
      "===================================================================================\n",
      "\n",
      "Warnings:\n",
      "[1] Covariance matrix calculated using the outer product of gradients (complex-step).\n",
      "18937    3.486419\n",
      "18938    2.517148\n",
      "18939    2.650232\n",
      "18940    3.480022\n",
      "18941    4.357417\n",
      "18942    5.419766\n",
      "18943    6.073895\n",
      "18944    6.810591\n",
      "18945    7.351887\n",
      "18946    7.474206\n",
      "18947    7.645989\n",
      "18948    7.388211\n",
      "18949    2.123546\n",
      "18950    7.049880\n",
      "18951    6.314722\n",
      "18952    5.601546\n",
      "18953    4.803256\n",
      "18954    1.508054\n",
      "18955    1.160701\n",
      "18956    0.881752\n",
      "18957    0.817864\n",
      "18958    1.142447\n",
      "18959    1.483450\n",
      "18960    2.135751\n",
      "Name: predicted_mean, dtype: float64\n"
     ]
    }
   ],
   "source": [
    "best_model = ARIMA(y, exog=X, order=best_order)\n",
    "best_result = best_model.fit()\n",
    "\n",
    "# Mostrar resumen del modelo\n",
    "print(best_result.summary())\n",
    "forecast = best_result.forecast(steps=24, exog=X.tail(24))\n",
    "\n",
    "# Mostrar resultados\n",
    "print(forecast)"
   ]
  },
  {
   "cell_type": "code",
   "execution_count": 92,
   "metadata": {},
   "outputs": [
    {
     "data": {
      "image/png": "[encoded data removed]",
      "text/plain": [
       "<Figure size 1000x600 with 1 Axes>"
      ]
     },
     "metadata": {},
     "output_type": "display_data"
    }
   ],
   "source": [
    "show_graphics(y, forecast)"
   ]
  },
  {
   "cell_type": "code",
   "execution_count": 93,
   "metadata": {},
   "outputs": [],
   "source": [
    "# Variables exógenas\n",
    "#exog_variables = ['humedad_hora_1', 'humedad_hora_2', 'humedad_hora_3', 'humedad_media_general', 'humedad_min_general', 'humedad_max_general']\n",
    "exog_variables = ['hora_sin', 'hora_cos', 'dia_sin', 'dia_cos', 'mes_sin', 'mes_cos']\n",
    "\n",
    "# Eliminar valores nulos o rellenar\n",
    "df_pandas_clean = df_pandas.dropna(subset=exog_variables + ['humedad_media'])\n",
    "df_humidity = df_pandas_clean.drop(columns=['temp_hora_1', 'temp_hora_2', 'temp_hora_3', 'temp_media_general', 'temp_min_general', 'temp_max_general', 'temperatura_media'])\n",
    "X = df_humidity[exog_variables]\n",
    "y = df_humidity['humedad_media']\n",
    "\n",
    "# Asegurarse de que los datos sean numéricos\n",
    "X = X.astype(float)\n",
    "y = y.astype(float)"
   ]
  },
  {
   "cell_type": "code",
   "execution_count": 82,
   "metadata": {},
   "outputs": [
    {
     "name": "stdout",
     "output_type": "stream",
     "text": [
      "Probando orden (0, 0, 0) - AIC: 159797.7559546204\n",
      "Probando orden (0, 0, 1) - AIC: 143996.44215553175\n",
      "Probando orden (0, 0, 2) - AIC: 138366.01719245524\n",
      "Probando orden (0, 0, 3) - AIC: 132711.86301521095\n",
      "Probando orden (0, 1, 0) - AIC: 128103.12587062636\n",
      "Probando orden (0, 1, 1) - AIC: 127661.74712873888\n",
      "Probando orden (0, 1, 2) - AIC: 127465.10009720457\n",
      "Probando orden (0, 1, 3) - AIC: 127391.03613533138\n",
      "Probando orden (1, 0, 0) - AIC: 127220.62571100754\n",
      "Probando orden (1, 0, 1) - AIC: 127022.56402661973\n",
      "Probando orden (1, 0, 2) - AIC: 126962.64175735519\n"
     ]
    },
    {
     "name": "stderr",
     "output_type": "stream",
     "text": [
      "/opt/conda/lib/python3.12/site-packages/statsmodels/base/model.py:607: ConvergenceWarning: Maximum Likelihood optimization failed to converge. Check mle_retvals\n",
      "  warnings.warn(\"Maximum Likelihood optimization failed to \"\n"
     ]
    },
    {
     "name": "stdout",
     "output_type": "stream",
     "text": [
      "Probando orden (1, 0, 3) - AIC: 126954.90858701323\n",
      "Probando orden (1, 1, 0) - AIC: 127739.7019614265\n",
      "Probando orden (1, 1, 1) - AIC: 126765.40141718375\n",
      "Probando orden (1, 1, 2) - AIC: 127386.0194568231\n"
     ]
    },
    {
     "name": "stderr",
     "output_type": "stream",
     "text": [
      "/opt/conda/lib/python3.12/site-packages/statsmodels/base/model.py:607: ConvergenceWarning: Maximum Likelihood optimization failed to converge. Check mle_retvals\n",
      "  warnings.warn(\"Maximum Likelihood optimization failed to \"\n"
     ]
    },
    {
     "name": "stdout",
     "output_type": "stream",
     "text": [
      "Probando orden (1, 1, 3) - AIC: 126744.02876899563\n",
      "Probando orden (2, 0, 0) - AIC: 127045.29027118535\n",
      "Probando orden (2, 0, 1) - AIC: 126681.06450469146\n"
     ]
    },
    {
     "name": "stderr",
     "output_type": "stream",
     "text": [
      "/opt/conda/lib/python3.12/site-packages/statsmodels/tsa/statespace/sarimax.py:966: UserWarning: Non-stationary starting autoregressive parameters found. Using zeros as starting parameters.\n",
      "  warn('Non-stationary starting autoregressive parameters'\n",
      "/opt/conda/lib/python3.12/site-packages/statsmodels/tsa/statespace/sarimax.py:978: UserWarning: Non-invertible starting MA parameters found. Using zeros as starting parameters.\n",
      "  warn('Non-invertible starting MA parameters found.'\n",
      "/opt/conda/lib/python3.12/site-packages/statsmodels/base/model.py:607: ConvergenceWarning: Maximum Likelihood optimization failed to converge. Check mle_retvals\n",
      "  warnings.warn(\"Maximum Likelihood optimization failed to \"\n"
     ]
    },
    {
     "name": "stdout",
     "output_type": "stream",
     "text": [
      "Probando orden (2, 0, 2) - AIC: 126794.72780014148\n"
     ]
    },
    {
     "name": "stderr",
     "output_type": "stream",
     "text": [
      "/opt/conda/lib/python3.12/site-packages/statsmodels/base/model.py:607: ConvergenceWarning: Maximum Likelihood optimization failed to converge. Check mle_retvals\n",
      "  warnings.warn(\"Maximum Likelihood optimization failed to \"\n"
     ]
    },
    {
     "name": "stdout",
     "output_type": "stream",
     "text": [
      "Probando orden (2, 0, 3) - AIC: 126795.09393025778\n",
      "Probando orden (2, 1, 0) - AIC: 127590.30927245542\n",
      "Probando orden (2, 1, 1) - AIC: 126742.16924919211\n"
     ]
    },
    {
     "name": "stderr",
     "output_type": "stream",
     "text": [
      "/opt/conda/lib/python3.12/site-packages/statsmodels/base/model.py:607: ConvergenceWarning: Maximum Likelihood optimization failed to converge. Check mle_retvals\n",
      "  warnings.warn(\"Maximum Likelihood optimization failed to \"\n"
     ]
    },
    {
     "name": "stdout",
     "output_type": "stream",
     "text": [
      "Probando orden (2, 1, 2) - AIC: 126648.67060773133\n",
      "Probando orden (2, 1, 3) - AIC: 126559.25700782788\n",
      "Probando orden (3, 0, 0) - AIC: 126990.69253881056\n"
     ]
    },
    {
     "name": "stderr",
     "output_type": "stream",
     "text": [
      "/opt/conda/lib/python3.12/site-packages/statsmodels/base/model.py:607: ConvergenceWarning: Maximum Likelihood optimization failed to converge. Check mle_retvals\n",
      "  warnings.warn(\"Maximum Likelihood optimization failed to \"\n"
     ]
    },
    {
     "name": "stdout",
     "output_type": "stream",
     "text": [
      "Probando orden (3, 0, 1) - AIC: 126798.09807105627\n"
     ]
    },
    {
     "name": "stderr",
     "output_type": "stream",
     "text": [
      "/opt/conda/lib/python3.12/site-packages/statsmodels/tsa/statespace/sarimax.py:966: UserWarning: Non-stationary starting autoregressive parameters found. Using zeros as starting parameters.\n",
      "  warn('Non-stationary starting autoregressive parameters'\n",
      "/opt/conda/lib/python3.12/site-packages/statsmodels/tsa/statespace/sarimax.py:978: UserWarning: Non-invertible starting MA parameters found. Using zeros as starting parameters.\n",
      "  warn('Non-invertible starting MA parameters found.'\n",
      "/opt/conda/lib/python3.12/site-packages/statsmodels/base/model.py:607: ConvergenceWarning: Maximum Likelihood optimization failed to converge. Check mle_retvals\n",
      "  warnings.warn(\"Maximum Likelihood optimization failed to \"\n"
     ]
    },
    {
     "name": "stdout",
     "output_type": "stream",
     "text": [
      "Probando orden (3, 0, 2) - AIC: 126632.46893240052\n"
     ]
    },
    {
     "name": "stderr",
     "output_type": "stream",
     "text": [
      "/opt/conda/lib/python3.12/site-packages/statsmodels/base/model.py:607: ConvergenceWarning: Maximum Likelihood optimization failed to converge. Check mle_retvals\n",
      "  warnings.warn(\"Maximum Likelihood optimization failed to \"\n"
     ]
    },
    {
     "name": "stdout",
     "output_type": "stream",
     "text": [
      "Probando orden (3, 0, 3) - AIC: 126506.13678530612\n",
      "Probando orden (3, 1, 0) - AIC: 127557.18764715476\n",
      "Probando orden (3, 1, 1) - AIC: 126743.7647698996\n"
     ]
    },
    {
     "name": "stderr",
     "output_type": "stream",
     "text": [
      "/opt/conda/lib/python3.12/site-packages/statsmodels/base/model.py:607: ConvergenceWarning: Maximum Likelihood optimization failed to converge. Check mle_retvals\n",
      "  warnings.warn(\"Maximum Likelihood optimization failed to \"\n"
     ]
    },
    {
     "name": "stdout",
     "output_type": "stream",
     "text": [
      "Probando orden (3, 1, 2) - AIC: 126544.38522221372\n"
     ]
    },
    {
     "name": "stderr",
     "output_type": "stream",
     "text": [
      "/opt/conda/lib/python3.12/site-packages/statsmodels/tsa/statespace/sarimax.py:966: UserWarning: Non-stationary starting autoregressive parameters found. Using zeros as starting parameters.\n",
      "  warn('Non-stationary starting autoregressive parameters'\n",
      "/opt/conda/lib/python3.12/site-packages/statsmodels/tsa/statespace/sarimax.py:978: UserWarning: Non-invertible starting MA parameters found. Using zeros as starting parameters.\n",
      "  warn('Non-invertible starting MA parameters found.'\n"
     ]
    },
    {
     "name": "stdout",
     "output_type": "stream",
     "text": [
      "Probando orden (3, 1, 3) - AIC: 126256.03666009773\n",
      "\n",
      "Mejor orden encontrado (humedad): (3, 1, 3) con AIC: 126256.03666009773\n"
     ]
    }
   ],
   "source": [
    "# Ordenar resultados por AIC\n",
    "results = grid_search(y, X)\n",
    "results = sorted(results, key=lambda x: x[1])\n",
    "best_order, best_aic = results[0]\n",
    "\n",
    "print(f\"\\nMejor orden encontrado (humedad): {best_order} con AIC: {best_aic}\")"
   ]
  },
  {
   "cell_type": "code",
   "execution_count": 94,
   "metadata": {},
   "outputs": [
    {
     "name": "stderr",
     "output_type": "stream",
     "text": [
      "/opt/conda/lib/python3.12/site-packages/statsmodels/tsa/statespace/sarimax.py:966: UserWarning: Non-stationary starting autoregressive parameters found. Using zeros as starting parameters.\n",
      "  warn('Non-stationary starting autoregressive parameters'\n",
      "/opt/conda/lib/python3.12/site-packages/statsmodels/tsa/statespace/sarimax.py:978: UserWarning: Non-invertible starting MA parameters found. Using zeros as starting parameters.\n",
      "  warn('Non-invertible starting MA parameters found.'\n"
     ]
    },
    {
     "name": "stdout",
     "output_type": "stream",
     "text": [
      "                               SARIMAX Results                                \n",
      "==============================================================================\n",
      "Dep. Variable:          humedad_media   No. Observations:                18937\n",
      "Model:                 ARIMA(3, 1, 3)   Log Likelihood              -63115.018\n",
      "Date:                Sun, 09 Mar 2025   AIC                         126256.037\n",
      "Time:                        13:39:41   BIC                         126358.071\n",
      "Sample:                             0   HQIC                        126289.508\n",
      "                              - 18937                                         \n",
      "Covariance Type:                  opg                                         \n",
      "==============================================================================\n",
      "                 coef    std err          z      P>|z|      [0.025      0.975]\n",
      "------------------------------------------------------------------------------\n",
      "hora_sin      10.4960      0.065    160.534      0.000      10.368      10.624\n",
      "hora_cos       0.9940      0.054     18.322      0.000       0.888       1.100\n",
      "dia_sin        0.0845      0.127      0.667      0.505      -0.164       0.333\n",
      "dia_cos       -0.8626      0.134     -6.441      0.000      -1.125      -0.600\n",
      "mes_sin        0.7688      1.207      0.637      0.524      -1.597       3.135\n",
      "mes_cos       12.6589      0.968     13.076      0.000      10.761      14.556\n",
      "ar.L1         -0.1146      0.011    -10.584      0.000      -0.136      -0.093\n",
      "ar.L2         -0.1572      0.011    -14.115      0.000      -0.179      -0.135\n",
      "ar.L3          0.6911      0.010     68.597      0.000       0.671       0.711\n",
      "ma.L1         -0.0990      0.010    -10.119      0.000      -0.118      -0.080\n",
      "ma.L2          0.0923      0.010      9.126      0.000       0.073       0.112\n",
      "ma.L3         -0.8542      0.008   -112.061      0.000      -0.869      -0.839\n",
      "sigma2        45.9861      0.212    217.074      0.000      45.571      46.401\n",
      "===================================================================================\n",
      "Ljung-Box (L1) (Q):                  12.42   Jarque-Bera (JB):            110192.43\n",
      "Prob(Q):                              0.00   Prob(JB):                         0.00\n",
      "Heteroskedasticity (H):               1.21   Skew:                            -0.05\n",
      "Prob(H) (two-sided):                  0.00   Kurtosis:                        14.82\n",
      "===================================================================================\n",
      "\n",
      "Warnings:\n",
      "[1] Covariance matrix calculated using the outer product of gradients (complex-step).\n",
      "18937    80.486858\n",
      "18938    82.801423\n",
      "18939    83.367897\n",
      "18940    80.957884\n",
      "18941    77.950365\n",
      "18942    75.162903\n",
      "18943    72.935707\n",
      "18944    70.735197\n",
      "18945    69.189598\n",
      "18946    68.560995\n",
      "18947    68.325461\n",
      "18948    68.869865\n",
      "18949    85.013724\n",
      "18950    70.212075\n",
      "18951    72.024500\n",
      "18952    74.485353\n",
      "18953    77.041896\n",
      "18954    86.868773\n",
      "18955    88.438011\n",
      "18956    89.191812\n",
      "18957    89.244167\n",
      "18958    88.717410\n",
      "18959    87.388537\n",
      "18960    85.472262\n",
      "Name: predicted_mean, dtype: float64\n"
     ]
    }
   ],
   "source": [
    "best_model = ARIMA(y, exog=X, order=best_order)\n",
    "best_result = best_model.fit()\n",
    "\n",
    "# Mostrar resumen del modelo\n",
    "print(best_result.summary())\n",
    "forecast = best_result.forecast(steps=24, exog=X.tail(24))\n",
    "\n",
    "# Mostrar resultados\n",
    "print(forecast)"
   ]
  },
  {
   "cell_type": "code",
   "execution_count": 95,
   "metadata": {},
   "outputs": [
    {
     "data": {
      "image/png": "[encoded data removed]",
      "text/plain": [
       "<Figure size 1000x600 with 1 Axes>"
      ]
     },
     "metadata": {},
     "output_type": "display_data"
    }
   ],
   "source": [
    "show_graphics(y, forecast)"
   ]
  },
  {
   "cell_type": "code",
   "execution_count": null,
   "metadata": {},
   "outputs": [],
   "source": []
  }
 ],
 "metadata": {
  "kernelspec": {
   "display_name": "Python 3 (ipykernel)",
   "language": "python",
   "name": "python3"
  },
  "language_info": {
   "codemirror_mode": {
    "name": "ipython",
    "version": 3
   },
   "file_extension": ".py",
   "mimetype": "text/x-python",
   "name": "python",
   "nbconvert_exporter": "python",
   "pygments_lexer": "ipython3",
   "version": "3.12.8"
  }
 },
 "nbformat": 4,
 "nbformat_minor": 4
}
