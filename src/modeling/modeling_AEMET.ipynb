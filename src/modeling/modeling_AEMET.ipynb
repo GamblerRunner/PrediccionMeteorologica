{
 "cells": [
  {
   "cell_type": "code",
   "execution_count": 2,
   "metadata": {},
   "outputs": [],
   "source": [
    "from pyspark.sql import SparkSession\n",
    "from pyspark.sql.window import Window\n",
    "import pyspark.sql.functions as F\n",
    "import numpy as np"
   ]
  },
  {
   "cell_type": "code",
   "execution_count": 9,
   "metadata": {},
   "outputs": [
    {
     "name": "stdout",
     "output_type": "stream",
     "text": [
      "+----------+------------------+----+---+\n",
      "|     fecha|             value|anio|mes|\n",
      "+----------+------------------+----+---+\n",
      "|2020-08-01|              29.5|2020|  8|\n",
      "|2020-08-02|28.600000381469727|2020|  8|\n",
      "|2020-08-03|              24.0|2020|  8|\n",
      "|2020-08-04|26.100000381469727|2020|  8|\n",
      "|2020-08-05|27.799999237060547|2020|  8|\n",
      "|2020-08-06|30.799999237060547|2020|  8|\n",
      "|2020-08-07|31.700000762939453|2020|  8|\n",
      "|2020-08-08|29.799999237060547|2020|  8|\n",
      "|2020-08-09|31.200000762939453|2020|  8|\n",
      "|2020-08-10|26.100000381469727|2020|  8|\n",
      "|2020-08-11|19.700000762939453|2020|  8|\n",
      "|2020-08-12|20.899999618530273|2020|  8|\n",
      "|2020-08-13|23.200000762939453|2020|  8|\n",
      "|2020-08-14|25.600000381469727|2020|  8|\n",
      "|2020-08-15|23.399999618530273|2020|  8|\n",
      "|2020-08-16|21.799999237060547|2020|  8|\n",
      "|2020-08-17|21.600000381469727|2020|  8|\n",
      "|2020-08-18|              24.5|2020|  8|\n",
      "|2020-08-19|25.399999618530273|2020|  8|\n",
      "|2020-08-20|25.399999618530273|2020|  8|\n",
      "+----------+------------------+----+---+\n",
      "only showing top 20 rows\n",
      "\n"
     ]
    }
   ],
   "source": [
    "spark = SparkSession.builder.appName(\"SeriesTemporales\").getOrCreate()\n",
    "# Leer archivo Parquet\n",
    "df_temp_media_mad = spark.read.parquet(\"../../data/homogenized/diarios/indicativo=3195/tipo_dato=temperatura_media\")\n",
    "# Mostrar datos\n",
    "#df_temp_media.show()\n",
    "df_temp_media_mad.show()"
   ]
  },
  {
   "cell_type": "code",
   "execution_count": 10,
   "metadata": {},
   "outputs": [
    {
     "data": {
      "text/plain": [
       "2233"
      ]
     },
     "execution_count": 10,
     "metadata": {},
     "output_type": "execute_result"
    }
   ],
   "source": [
    "df_temp_media_mad.count()"
   ]
  },
  {
   "cell_type": "code",
   "execution_count": null,
   "metadata": {},
   "outputs": [],
   "source": [
    "df_pandas = df_temp_media.toPandas()"
   ]
  },
  {
   "cell_type": "code",
   "execution_count": null,
   "metadata": {},
   "outputs": [],
   "source": [
    "df_pandas[\"dia\"] = df_pandas[\"fecha\"].dt.day\n",
    "#df_pandas.sort_values(by=\"fecha\", inplace=True)\n",
    "#df_pandas.reset_index(drop=True, inplace=True)"
   ]
  },
  {
   "cell_type": "code",
   "execution_count": null,
   "metadata": {},
   "outputs": [],
   "source": [
    "df_pandas['sin_dia'] = np.sin(2 * np.pi * df_pandas['dia'] / 365)\n",
    "df_pandas['cos_dia'] = np.cos(2 * np.pi * df_pandas['dia'] / 365)\n",
    "\n",
    "df_pandas['sin_mes'] = np.sin(2 * np.pi * df_pandas['mes'] / 12)\n",
    "df_pandas['cos_mes'] = np.cos(2 * np.pi * df_pandas['mes'] / 12)"
   ]
  },
  {
   "cell_type": "code",
   "execution_count": null,
   "metadata": {},
   "outputs": [],
   "source": [
    "from statsmodels.tsa.statespace.sarimax import SARIMAX\n",
    "from pmdarima import auto_arima"
   ]
  },
  {
   "cell_type": "code",
   "execution_count": null,
   "metadata": {},
   "outputs": [],
   "source": [
    "max_p = 3 # You can try up to 5 more is not recommended\n",
    "max_d = 3 # You can try up to 5 more is not recommended\n",
    "max_q = 3 # You can try up to 5 more is not recommended\n",
    "max_P = 2 # You can try up to 3 more is not recommended \n",
    "max_D = 2 # You can try up to 3 more is not recommended\n",
    "max_Q = 2 # You can try up to 3 more is not recommended\n",
    "\n",
    "seasonality_order = 12 #because is a monthly data and we have seen yearly seasonality\n",
    "\n",
    "model = auto_arima(df_pandas['value'], \n",
    "                   seasonal=True, \n",
    "                   m=12, \n",
    "                   trace=True, \n",
    "                   suppress_warnings=True, \n",
    "                   stepwise=True,\n",
    "                   max_p=max_p, max_d=max_d, max_q=max_q,\n",
    "                   max_P=max_P, max_D=max_D, max_Q=max_Q,\n",
    "                   n_jobs=-1)"
   ]
  },
  {
   "cell_type": "code",
   "execution_count": null,
   "metadata": {},
   "outputs": [],
   "source": [
    "exog_variables = ['sin_dia', 'cos_dia', 'sin_mes', 'cos_mes']\n",
    "\n",
    "X = df_pandas[exog_variables]\n",
    "y = df_pandas['value']\n",
    "\n",
    "#X = X.astype(float)\n",
    "#y = y.astype(float)\n",
    "\n",
    "modelo = SARIMAX(y, exog=X, order=(p, d, q), seasonal_order=(P, D, Q, 12))\n",
    "modelo.fit()\n",
    "print(modelo.summary())"
   ]
  },
  {
   "cell_type": "code",
   "execution_count": null,
   "metadata": {},
   "outputs": [],
   "source": [
    "forecast = modelo.forecast(steps=7, exog=X)\n",
    "print(forecast)"
   ]
  }
 ],
 "metadata": {
  "kernelspec": {
   "display_name": "Python 3 (ipykernel)",
   "language": "python",
   "name": "python3"
  },
  "language_info": {
   "codemirror_mode": {
    "name": "ipython",
    "version": 3
   },
   "file_extension": ".py",
   "mimetype": "text/x-python",
   "name": "python",
   "nbconvert_exporter": "python",
   "pygments_lexer": "ipython3",
   "version": "3.12.8"
  }
 },
 "nbformat": 4,
 "nbformat_minor": 4
}
