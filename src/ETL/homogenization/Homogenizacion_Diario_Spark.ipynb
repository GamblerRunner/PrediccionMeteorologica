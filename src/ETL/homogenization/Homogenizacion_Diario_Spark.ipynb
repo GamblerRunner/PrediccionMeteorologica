{
 "cells": [
  {
   "cell_type": "code",
   "execution_count": 1,
   "id": "527971d5-c4f0-42ce-9db5-6f41789d5505",
   "metadata": {},
   "outputs": [],
   "source": [
    "from pyspark.sql import SparkSession\n",
    "import pyspark.sql.functions as F\n",
    "import os\n",
    "spark = SparkSession.builder \\\n",
    "    .appName('Homogenizar datos') \\\n",
    "    .getOrCreate()\n",
    "\n",
    "sc = spark.sparkContext"
   ]
  },
  {
   "cell_type": "code",
   "execution_count": 2,
   "id": "444b2f19-65bb-462c-adea-1acd9ad32bfe",
   "metadata": {},
   "outputs": [],
   "source": [
    "## Cambiar la ruta de los datos"
   ]
  },
  {
   "cell_type": "code",
   "execution_count": 149,
   "id": "0d588513-b891-4bf5-a6fb-7b67f1116f5f",
   "metadata": {},
   "outputs": [],
   "source": [
    "df_bar = spark.read.option(\"delimiter\", \",\").option(\"header\", True).csv(\"../../../data/raw/data_aemet/estacion_0201X_data.csv\")\n",
    "df_mad = spark.read.option(\"delimiter\", \",\").option(\"header\", True).csv(\"../../../data/raw/data_aemet/estacion_3195_data.csv\")"
   ]
  },
  {
   "cell_type": "code",
   "execution_count": 150,
   "id": "e83340a3-ef4a-466b-b3f2-573c8d719ce9",
   "metadata": {},
   "outputs": [],
   "source": [
    "df_bar = df_bar.withColumnRenamed(\"tmed\", \"temperatura_media\") \\\n",
    "       .withColumnRenamed(\"hrMedia\", \"humedad_media\") \\\n",
    "       .withColumnRenamed(\"tmax\", \"temperatura_maxima\") \\\n",
    "       .withColumnRenamed(\"tmin\", \"temperatura_minima\")\n",
    "df_mad = df_mad.withColumnRenamed(\"tmed\", \"temperatura_media\") \\\n",
    "       .withColumnRenamed(\"hrMedia\", \"humedad_media\") \\\n",
    "       .withColumnRenamed(\"tmax\", \"temperatura_maxima\") \\\n",
    "       .withColumnRenamed(\"tmin\", \"temperatura_minima\")"
   ]
  },
  {
   "cell_type": "code",
   "execution_count": 151,
   "id": "d32d2566-2392-477a-b49c-014194532071",
   "metadata": {},
   "outputs": [],
   "source": [
    "columnas = [\"temperatura_media\", \"humedad_media\", \"temperatura_maxima\", \"temperatura_minima\"]\n",
    "#dataframes_bar = [\"df_temp_media_bar\", \"df_humedad_bar\", \"df_temp_maxima_bar\", \"df_temp_minima_bar\"]\n",
    "#dataframes_mad = [\"df_temp_media_mad\",\"df_humedad_mad\",\"df_temp_maxima_mad\",\"df_temp_minima_mad\"]\n",
    "#dataframes_hoyo = [\"df_temp_media_hoyo\",\"df_humedad_hoyo\",\"df_temp_maxima_hoyo\",\"df_temp_minima_hoyo\"]"
   ]
  },
  {
   "cell_type": "code",
   "execution_count": 152,
   "id": "08f393c2-36ae-499f-817e-e23422983ca9",
   "metadata": {},
   "outputs": [],
   "source": [
    "for col_name in columnas:\n",
    "    df_bar = df_bar.withColumn(f\"{col_name}\", F.regexp_replace(F.col(f\"{col_name}\"), \",\", \".\"))\n",
    "    df_bar = df_bar.withColumn(f\"{col_name}\", F.col(f\"{col_name}\").cast(\"float\"))\n",
    "    df_mad = df_mad.withColumn(f\"{col_name}\", F.regexp_replace(F.col(f\"{col_name}\"), \",\", \".\"))\n",
    "    df_mad = df_mad.withColumn(f\"{col_name}\", F.col(f\"{col_name}\").cast(\"float\"))"
   ]
  },
  {
   "cell_type": "code",
   "execution_count": 153,
   "id": "0af2450f-23d3-48bd-8b1c-6a7ec7b074ca",
   "metadata": {},
   "outputs": [],
   "source": [
    "df_bar = df_bar.withColumn(\"fecha\", F.to_date(df_bar[\"fecha\"], \"yyyy-MM-dd\"))\n",
    "df_mad = df_mad.withColumn(\"fecha\", F.to_date(df_mad[\"fecha\"], \"yyyy-MM-dd\"))"
   ]
  },
  {
   "cell_type": "code",
   "execution_count": 154,
   "id": "00a64f67-302b-4936-8110-7081f41c631f",
   "metadata": {},
   "outputs": [],
   "source": [
    "df_bar = df_bar.withColumn(\"anio\", F.year(df_bar[\"fecha\"])) \\\n",
    "        .withColumn(\"mes\", F.month(df_bar[\"fecha\"]))\n",
    "df_mad = df_mad.withColumn(\"anio\", F.year(df_mad[\"fecha\"])) \\\n",
    "        .withColumn(\"mes\", F.month(df_mad[\"fecha\"]))"
   ]
  },
  {
   "cell_type": "code",
   "execution_count": 155,
   "id": "45e1ca49-1426-4eb5-8766-16510d17c24e",
   "metadata": {},
   "outputs": [],
   "source": [
    "df_temp_media_bar = df_bar.select(F.col(\"fecha\"), F.col(\"indicativo\"), F.col(\"anio\"), F.col(\"mes\"), F.col(\"temperatura_media\"))\n",
    "df_humedad_bar = df_bar.select(F.col(\"fecha\"), F.col(\"indicativo\"), F.col(\"anio\"), F.col(\"mes\"), F.col(\"humedad_media\"))\n",
    "df_temp_maxima_bar = df_bar.select(F.col(\"fecha\"), F.col(\"indicativo\"), F.col(\"anio\"), F.col(\"mes\"), F.col(\"temperatura_maxima\"))\n",
    "df_temp_minima_bar = df_bar.select(F.col(\"fecha\"), F.col(\"indicativo\"), F.col(\"anio\"), F.col(\"mes\"), F.col(\"temperatura_minima\"))\n",
    "\n",
    "df_temp_media_mad = df_mad.select(F.col(\"fecha\"), F.col(\"indicativo\"), F.col(\"anio\"), F.col(\"mes\"), F.col(\"temperatura_media\"))\n",
    "df_humedad_mad = df_mad.select(F.col(\"fecha\"), F.col(\"indicativo\"), F.col(\"anio\"), F.col(\"mes\"), F.col(\"humedad_media\"))\n",
    "df_temp_maxima_mad = df_mad.select(F.col(\"fecha\"), F.col(\"indicativo\"), F.col(\"anio\"), F.col(\"mes\"), F.col(\"temperatura_maxima\"))\n",
    "df_temp_minima_mad = df_mad.select(F.col(\"fecha\"), F.col(\"indicativo\"), F.col(\"anio\"), F.col(\"mes\"), F.col(\"temperatura_minima\"))"
   ]
  },
  {
   "cell_type": "code",
   "execution_count": 159,
   "id": "1c048989-6a13-4722-af18-16e1a0ee61e4",
   "metadata": {},
   "outputs": [
    {
     "data": {
      "text/plain": [
       "[('fecha', 'date'),\n",
       " ('indicativo', 'string'),\n",
       " ('anio', 'int'),\n",
       " ('mes', 'int'),\n",
       " ('tipo_dato', 'string'),\n",
       " ('value', 'float')]"
      ]
     },
     "execution_count": 159,
     "metadata": {},
     "output_type": "execute_result"
    }
   ],
   "source": [
    "df_humedad_mad.dtypes"
   ]
  },
  {
   "cell_type": "code",
   "execution_count": 157,
   "id": "77553e66-37e3-4d6a-8411-0421c93c6f01",
   "metadata": {},
   "outputs": [],
   "source": [
    "df_temp_media_bar = df_temp_media_bar.withColumn(\"tipo_dato\", F.lit(\"temperatura_media\")) \\\n",
    "                                     .withColumn(\"value\", df_temp_media_bar[\"temperatura_media\"]) \\\n",
    "                                     .drop(\"temperatura_media\")\n",
    "df_humedad_bar = df_humedad_bar.withColumn(\"tipo_dato\", F.lit(\"humedad_media\")) \\\n",
    "                                     .withColumn(\"value\", df_humedad_bar[\"humedad_media\"]) \\\n",
    "                                     .drop(\"humedad_media\")\n",
    "df_temp_maxima_bar = df_temp_maxima_bar.withColumn(\"tipo_dato\", F.lit(\"temperatura_maxima\")) \\\n",
    "                                     .withColumn(\"value\", df_temp_maxima_bar[\"temperatura_maxima\"]) \\\n",
    "                                     .drop(\"temperatura_maxima\")\n",
    "df_temp_minima_bar = df_temp_minima_bar.withColumn(\"tipo_dato\", F.lit(\"temperatura_minima\")) \\\n",
    "                                     .withColumn(\"value\", df_temp_minima_bar[\"temperatura_minima\"]) \\\n",
    "                                     .drop(\"temperatura_minima\")\n",
    "\n",
    "df_temp_media_mad = df_temp_media_mad.withColumn(\"tipo_dato\", F.lit(\"temperatura_media\")) \\\n",
    "                                     .withColumn(\"value\", df_temp_media_mad[\"temperatura_media\"]) \\\n",
    "                                     .drop(\"temperatura_media\")\n",
    "df_humedad_mad = df_humedad_mad.withColumn(\"tipo_dato\", F.lit(\"humedad_media\")) \\\n",
    "                                     .withColumn(\"value\", df_humedad_mad[\"humedad_media\"]) \\\n",
    "                                     .drop(\"humedad_media\")\n",
    "df_temp_maxima_mad = df_temp_maxima_mad.withColumn(\"tipo_dato\", F.lit(\"temperatura_maxima\")) \\\n",
    "                                     .withColumn(\"value\", df_temp_maxima_mad[\"temperatura_maxima\"]) \\\n",
    "                                     .drop(\"temperatura_maxima\")\n",
    "df_temp_minima_mad = df_temp_minima_mad.withColumn(\"tipo_dato\", F.lit(\"temperatura_minima\")) \\\n",
    "                                     .withColumn(\"value\", df_temp_minima_mad[\"temperatura_minima\"]) \\\n",
    "                                     .drop(\"temperatura_minima\")"
   ]
  },
  {
   "cell_type": "code",
   "execution_count": 160,
   "id": "9d223d38-8570-472d-8fe8-7ba4963c6632",
   "metadata": {},
   "outputs": [],
   "source": [
    "df_bar_total = df_temp_media_bar.unionByName(df_humedad_bar).unionByName(df_temp_maxima_bar).unionByName(df_temp_minima_bar)\n",
    "df_mad_total = df_temp_media_mad.unionByName(df_humedad_mad).unionByName(df_temp_maxima_mad).unionByName(df_temp_minima_mad)\n",
    "\n",
    "df_completo = df_bar_total.unionByName(df_mad_total)"
   ]
  },
  {
   "cell_type": "code",
   "execution_count": 166,
   "id": "54c2656a-88dc-4b3a-a75f-7cd73fef85f1",
   "metadata": {},
   "outputs": [
    {
     "data": {
      "text/plain": [
       "8932"
      ]
     },
     "execution_count": 166,
     "metadata": {},
     "output_type": "execute_result"
    }
   ],
   "source": [
    "df_mad_total.count()"
   ]
  },
  {
   "cell_type": "code",
   "execution_count": 168,
   "id": "4bcd452f-9216-4609-9f7a-14e89a50b7fd",
   "metadata": {},
   "outputs": [
    {
     "name": "stdout",
     "output_type": "stream",
     "text": [
      "finished\n"
     ]
    }
   ],
   "source": [
    "df_completo.write.format(\"parquet\").partitionBy(\"indicativo\",\"tipo_dato\",\"anio\",\"mes\").mode(\"overwrite\").save(\"../../../data/homogenized/diarios/\")\n",
    "print(\"finished\")"
   ]
  },
  {
   "cell_type": "code",
   "execution_count": null,
   "id": "2d86beec-6953-4242-aa2c-eac866e18a21",
   "metadata": {},
   "outputs": [],
   "source": []
  }
 ],
 "metadata": {
  "kernelspec": {
   "display_name": "Python 3 (ipykernel)",
   "language": "python",
   "name": "python3"
  },
  "language_info": {
   "codemirror_mode": {
    "name": "ipython",
    "version": 3
   },
   "file_extension": ".py",
   "mimetype": "text/x-python",
   "name": "python",
   "nbconvert_exporter": "python",
   "pygments_lexer": "ipython3",
   "version": "3.12.8"
  }
 },
 "nbformat": 4,
 "nbformat_minor": 5
}
