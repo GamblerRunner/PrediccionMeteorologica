{
 "cells": [
  {
   "cell_type": "code",
   "execution_count": 117,
   "id": "527971d5-c4f0-42ce-9db5-6f41789d5505",
   "metadata": {},
   "outputs": [],
   "source": [
    "from pyspark.sql import SparkSession\n",
    "import pyspark.sql.functions as F\n",
    "import os\n",
    "spark = SparkSession.builder \\\n",
    "    .appName('Modificar datos aemet') \\\n",
    "    .getOrCreate()\n",
    "\n",
    "sc = spark.sparkContext"
   ]
  },
  {
   "cell_type": "code",
   "execution_count": 107,
   "id": "0d588513-b891-4bf5-a6fb-7b67f1116f5f",
   "metadata": {},
   "outputs": [],
   "source": [
    "df = spark.read.option(\"delimiter\", \",\").option(\"header\", True).csv(\"../../data/raw/data_aemet/estacion_3195_data.csv\")"
   ]
  },
  {
   "cell_type": "code",
   "execution_count": 108,
   "id": "74dea01a-3e0a-43fe-b70b-05018821b085",
   "metadata": {},
   "outputs": [
    {
     "data": {
      "text/plain": [
       "2233"
      ]
     },
     "execution_count": 108,
     "metadata": {},
     "output_type": "execute_result"
    }
   ],
   "source": [
    "df.count()"
   ]
  },
  {
   "cell_type": "code",
   "execution_count": 109,
   "id": "f886722b-9404-49a0-b31b-e91dcdb83d47",
   "metadata": {},
   "outputs": [],
   "source": [
    "df = df.withColumn(\"tmed\", F.regexp_replace(F.col(\"tmed\"), \",\", \".\"))\n",
    "df = df.withColumn(\"tmed\", F.regexp_replace(F.col(\"hrMedia\"), \",\", \".\"))"
   ]
  },
  {
   "cell_type": "code",
   "execution_count": 110,
   "id": "0af2450f-23d3-48bd-8b1c-6a7ec7b074ca",
   "metadata": {},
   "outputs": [],
   "source": [
    "df = df.withColumn(\"fecha\", F.to_date(df[\"fecha\"], \"yyyy-MM-dd\"))"
   ]
  },
  {
   "cell_type": "code",
   "execution_count": 111,
   "id": "6a4d9c7d-35bd-432b-ac95-61098b3b5749",
   "metadata": {},
   "outputs": [],
   "source": [
    "df = df.withColumn(\"tmed\", F.col(\"tmed\").cast(\"float\"))\n",
    "df = df.withColumn(\"hrMedia\", F.col(\"hrMedia\").cast(\"float\"))"
   ]
  },
  {
   "cell_type": "code",
   "execution_count": 112,
   "id": "00a64f67-302b-4936-8110-7081f41c631f",
   "metadata": {},
   "outputs": [],
   "source": [
    "df = df.withColumn(\"year\", F.year(df[\"fecha\"]))\n",
    "df = df.withColumn(\"month\", F.month(df[\"fecha\"]))"
   ]
  },
  {
   "cell_type": "code",
   "execution_count": 113,
   "id": "45e1ca49-1426-4eb5-8766-16510d17c24e",
   "metadata": {},
   "outputs": [],
   "source": [
    "df_temp_media = df.select(F.col(\"fecha\"), F.col(\"year\"), F.col(\"month\"), F.col(\"tmed\"), F.col(\"hrMedia\"))"
   ]
  },
  {
   "cell_type": "code",
   "execution_count": 114,
   "id": "1c048989-6a13-4722-af18-16e1a0ee61e4",
   "metadata": {},
   "outputs": [
    {
     "data": {
      "text/plain": [
       "[('fecha', 'date'),\n",
       " ('year', 'int'),\n",
       " ('month', 'int'),\n",
       " ('tmed', 'float'),\n",
       " ('hrMedia', 'float')]"
      ]
     },
     "execution_count": 114,
     "metadata": {},
     "output_type": "execute_result"
    }
   ],
   "source": [
    "df_temp_media.dtypes"
   ]
  },
  {
   "cell_type": "code",
   "execution_count": 124,
   "id": "3bfea426-8339-42a4-88b4-72db89b67008",
   "metadata": {},
   "outputs": [],
   "source": [
    "base_dir = \"../../../data/homogenized/aemet_data/\""
   ]
  },
  {
   "cell_type": "code",
   "execution_count": 125,
   "id": "3a91f99e-cb33-4e74-985a-902625453be2",
   "metadata": {},
   "outputs": [
    {
     "name": "stdout",
     "output_type": "stream",
     "text": [
      "Datos guardados por año y mes.\n"
     ]
    }
   ],
   "source": [
    "for row in df_temp_media.select(\"year\", \"month\").distinct().collect():\n",
    "    year_val = row[\"year\"]\n",
    "    month_val = row[\"month\"]\n",
    "    \n",
    "    # Crear el directorio por año y mes\n",
    "    dir_path = os.path.join(base_dir, f\"Año_{year_val}/Mes_{month_val}\")\n",
    "    \n",
    "    # Crear las carpetas si no existen\n",
    "    os.makedirs(dir_path, exist_ok=True)\n",
    "    \n",
    "    # Filtrar el DataFrame para este año y mes\n",
    "    df_filtered = df.filter((df_temp_media[\"year\"] == year_val) & (df_temp_media[\"month\"] == month_val))\n",
    "    \n",
    "    # Guardar los datos filtrados en la carpeta correspondiente (por ejemplo, en formato CSV)\n",
    "    df_filtered.write.parquet(os.path.join(dir_path, f\"estacion_3195_{year_val}_{month_val}.parquet\"), mode=\"overwrite\")\n",
    "\n",
    "print(\"Datos guardados por año y mes.\")"
   ]
  },
  {
   "cell_type": "code",
   "execution_count": null,
   "id": "e01de64b-7ab1-4922-acb2-c15a63c309c9",
   "metadata": {},
   "outputs": [],
   "source": []
  }
 ],
 "metadata": {
  "kernelspec": {
   "display_name": "Python 3 (ipykernel)",
   "language": "python",
   "name": "python3"
  },
  "language_info": {
   "codemirror_mode": {
    "name": "ipython",
    "version": 3
   },
   "file_extension": ".py",
   "mimetype": "text/x-python",
   "name": "python",
   "nbconvert_exporter": "python",
   "pygments_lexer": "ipython3",
   "version": "3.12.8"
  }
 },
 "nbformat": 4,
 "nbformat_minor": 5
}
