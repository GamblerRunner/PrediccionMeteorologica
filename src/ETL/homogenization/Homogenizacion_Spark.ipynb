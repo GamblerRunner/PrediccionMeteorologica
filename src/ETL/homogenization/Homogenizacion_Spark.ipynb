{
 "cells": [
  {
   "cell_type": "code",
   "execution_count": 1,
   "id": "527971d5-c4f0-42ce-9db5-6f41789d5505",
   "metadata": {},
   "outputs": [],
   "source": [
    "from pyspark.sql import SparkSession\n",
    "import pyspark.sql.functions as F\n",
    "import os\n",
    "spark = SparkSession.builder \\\n",
    "    .appName('Homogenizar datos') \\\n",
    "    .getOrCreate()\n",
    "\n",
    "sc = spark.sparkContext"
   ]
  },
  {
   "cell_type": "code",
   "execution_count": 2,
   "id": "444b2f19-65bb-462c-adea-1acd9ad32bfe",
   "metadata": {},
   "outputs": [],
   "source": [
    "## Cambiar la ruta de los datos"
   ]
  },
  {
   "cell_type": "code",
   "execution_count": 3,
   "id": "0d588513-b891-4bf5-a6fb-7b67f1116f5f",
   "metadata": {},
   "outputs": [],
   "source": [
    "df = spark.read.option(\"delimiter\", \",\").option(\"header\", True).csv(\"../../../data/raw/data_aemet/estacion_3195_data.csv\")"
   ]
  },
  {
   "cell_type": "code",
   "execution_count": 4,
   "id": "74dea01a-3e0a-43fe-b70b-05018821b085",
   "metadata": {},
   "outputs": [
    {
     "data": {
      "text/plain": [
       "['fecha',\n",
       " 'indicativo',\n",
       " 'nombre',\n",
       " 'provincia',\n",
       " 'altitud',\n",
       " 'tmed',\n",
       " 'prec',\n",
       " 'tmin',\n",
       " 'horatmin',\n",
       " 'tmax',\n",
       " 'horatmax',\n",
       " 'dir',\n",
       " 'velmedia',\n",
       " 'racha',\n",
       " 'horaracha',\n",
       " 'presMax',\n",
       " 'horaPresMax',\n",
       " 'presMin',\n",
       " 'horaPresMin',\n",
       " 'hrMedia',\n",
       " 'hrMax',\n",
       " 'horaHrMax',\n",
       " 'hrMin',\n",
       " 'horaHrMin']"
      ]
     },
     "execution_count": 4,
     "metadata": {},
     "output_type": "execute_result"
    }
   ],
   "source": [
    "df.columns"
   ]
  },
  {
   "cell_type": "code",
   "execution_count": 20,
   "id": "e83340a3-ef4a-466b-b3f2-573c8d719ce9",
   "metadata": {},
   "outputs": [],
   "source": [
    "df = df.withColumnRenamed(\"tmed\", \"temperatura_media\") \\\n",
    "       .withColumnRenamed(\"hrMedia\", \"humedad_media\") \\\n",
    "       .withColumnRenamed(\"tmax\", \"temperatura_maxima\") \\\n",
    "       .withColumnRenamed(\"tmin\", \"temperatura_minima\")"
   ]
  },
  {
   "cell_type": "code",
   "execution_count": 21,
   "id": "f886722b-9404-49a0-b31b-e91dcdb83d47",
   "metadata": {},
   "outputs": [],
   "source": [
    "df = df.withColumn(\"temperatura_media\", F.regexp_replace(F.col(\"temperatura_media\"), \",\", \".\"))\n",
    "df = df.withColumn(\"humedad_media\", F.regexp_replace(F.col(\"humedad_media\"), \",\", \".\"))\n",
    "df = df.withColumn(\"temperatura_maxima\", F.regexp_replace(F.col(\"temperatura_maxima\"), \",\", \".\"))\n",
    "df = df.withColumn(\"temperatura_minima\", F.regexp_replace(F.col(\"temperatura_minima\"), \",\", \".\"))"
   ]
  },
  {
   "cell_type": "code",
   "execution_count": 22,
   "id": "0af2450f-23d3-48bd-8b1c-6a7ec7b074ca",
   "metadata": {},
   "outputs": [],
   "source": [
    "df = df.withColumn(\"fecha\", F.to_date(df[\"fecha\"], \"yyyy-MM-dd\"))"
   ]
  },
  {
   "cell_type": "code",
   "execution_count": 23,
   "id": "6a4d9c7d-35bd-432b-ac95-61098b3b5749",
   "metadata": {},
   "outputs": [],
   "source": [
    "df = df.withColumn(\"temperatura_media\", F.col(\"temperatura_media\").cast(\"float\"))\n",
    "df = df.withColumn(\"humedad_media\", F.col(\"humedad_media\").cast(\"float\"))\n",
    "df = df.withColumn(\"temperatura_maxima\", F.col(\"temperatura_maxima\").cast(\"float\"))\n",
    "df = df.withColumn(\"temperatura_minima\", F.col(\"temperatura_minima\").cast(\"float\"))"
   ]
  },
  {
   "cell_type": "code",
   "execution_count": 24,
   "id": "00a64f67-302b-4936-8110-7081f41c631f",
   "metadata": {},
   "outputs": [],
   "source": [
    "df = df.withColumn(\"anio\", F.year(df[\"fecha\"]))\n",
    "df = df.withColumn(\"mes\", F.month(df[\"fecha\"]))"
   ]
  },
  {
   "cell_type": "code",
   "execution_count": 25,
   "id": "45e1ca49-1426-4eb5-8766-16510d17c24e",
   "metadata": {},
   "outputs": [],
   "source": [
    "df_temp_media = df.select(F.col(\"fecha\"), F.col(\"anio\"), F.col(\"mes\"), F.col(\"temperatura_media\"))\n",
    "df_humedad = df.select(F.col(\"fecha\"), F.col(\"anio\"), F.col(\"mes\"), F.col(\"humedad_media\"))\n",
    "df_temp_maxima = df.select(F.col(\"fecha\"), F.col(\"anio\"), F.col(\"mes\"), F.col(\"temperatura_maxima\"))\n",
    "df_temp_minima = df.select(F.col(\"fecha\"), F.col(\"anio\"), F.col(\"mes\"), F.col(\"temperatura_minima\"))"
   ]
  },
  {
   "cell_type": "code",
   "execution_count": 11,
   "id": "1c048989-6a13-4722-af18-16e1a0ee61e4",
   "metadata": {},
   "outputs": [
    {
     "data": {
      "text/plain": [
       "[('fecha', 'date'),\n",
       " ('anio', 'int'),\n",
       " ('mes', 'int'),\n",
       " ('temperatura_media', 'float')]"
      ]
     },
     "execution_count": 11,
     "metadata": {},
     "output_type": "execute_result"
    }
   ],
   "source": [
    "df_temp_media.dtypes"
   ]
  },
  {
   "cell_type": "code",
   "execution_count": 26,
   "id": "3bfea426-8339-42a4-88b4-72db89b67008",
   "metadata": {},
   "outputs": [],
   "source": [
    "base_dir = \"../../../data/homogenized/aemet_data/humedad/\""
   ]
  },
  {
   "cell_type": "code",
   "execution_count": 27,
   "id": "3a91f99e-cb33-4e74-985a-902625453be2",
   "metadata": {},
   "outputs": [
    {
     "name": "stdout",
     "output_type": "stream",
     "text": [
      "Datos guardados por año y mes.\n"
     ]
    }
   ],
   "source": [
    "for row in df_humedad.select(\"anio\", \"mes\").distinct().collect():\n",
    "    year_val = row[\"anio\"]\n",
    "    month_val = row[\"mes\"]\n",
    "    \n",
    "    # Crear el directorio por año y mes\n",
    "    dir_path = os.path.join(base_dir, f\"Año_{year_val}/Mes_{month_val}\")\n",
    "    \n",
    "    # Crear las carpetas si no existen\n",
    "    os.makedirs(dir_path, exist_ok=True)\n",
    "    \n",
    "    # Filtrar el DataFrame para este año y mes\n",
    "    df_filtered = df.filter((df_humedad[\"anio\"] == year_val) & (df_humedad[\"mes\"] == month_val))\n",
    "    \n",
    "    # Guardar los datos filtrados en la carpeta correspondiente (por ejemplo, en formato CSV)\n",
    "    df_filtered.write.parquet(os.path.join(dir_path, f\"estacion_3195_{year_val}_{month_val}.parquet\"), mode=\"overwrite\")\n",
    "\n",
    "print(\"Datos guardados por año y mes.\")"
   ]
  },
  {
   "cell_type": "code",
   "execution_count": null,
   "id": "e01de64b-7ab1-4922-acb2-c15a63c309c9",
   "metadata": {},
   "outputs": [],
   "source": []
  }
 ],
 "metadata": {
  "kernelspec": {
   "display_name": "Python 3 (ipykernel)",
   "language": "python",
   "name": "python3"
  },
  "language_info": {
   "codemirror_mode": {
    "name": "ipython",
    "version": 3
   },
   "file_extension": ".py",
   "mimetype": "text/x-python",
   "name": "python",
   "nbconvert_exporter": "python",
   "pygments_lexer": "ipython3",
   "version": "3.12.8"
  }
 },
 "nbformat": 4,
 "nbformat_minor": 5
}
