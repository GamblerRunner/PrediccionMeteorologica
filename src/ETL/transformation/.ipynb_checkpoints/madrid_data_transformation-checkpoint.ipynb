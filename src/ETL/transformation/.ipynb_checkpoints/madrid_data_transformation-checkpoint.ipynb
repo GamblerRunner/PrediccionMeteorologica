{
 "cells": [
  {
   "cell_type": "code",
   "execution_count": 1,
   "metadata": {},
   "outputs": [],
   "source": [
    "import pandas as pd"
   ]
  },
  {
   "cell_type": "code",
   "execution_count": 2,
   "metadata": {},
   "outputs": [],
   "source": [
    "def fill_missing_values(df, column):\n",
    "    # Rellenar con la mediana del mismo día, mes y hora en otros años\n",
    "    df[column] = df.groupby([\"Mes\", \"Día\", \"Hora\"])[column].transform(\n",
    "        lambda x: x.fillna(x.mean())\n",
    "    )\n",
    "    return df"
   ]
  },
  {
   "cell_type": "code",
   "execution_count": 3,
   "metadata": {},
   "outputs": [],
   "source": [
    "df_final = pd.read_csv('../../../data/homogenized/madrid_data/homogenized_data.csv', parse_dates=['Fecha'])"
   ]
  },
  {
   "cell_type": "code",
   "execution_count": 4,
   "metadata": {},
   "outputs": [],
   "source": [
    "columnas_a_rellenar = [\"HUMEDAD RELATIVA\", \"TEMPERATURA\"]\n",
    "df_filled = None\n",
    "df_final[\"Año\"] = df_final[\"Fecha\"].dt.year\n",
    "df_final[\"Mes\"] = df_final[\"Fecha\"].dt.month\n",
    "df_final[\"Día\"] = df_final[\"Fecha\"].dt.day\n",
    "\n",
    "for col in columnas_a_rellenar:\n",
    "    df_filled = fill_missing_values(df_final, col)\n",
    "\n",
    "columnas_a_interpolar = ['HUMEDAD RELATIVA', 'TEMPERATURA']\n",
    "#df_filled[columnas_a_interpolar] = df_filled[columnas_a_interpolar].interpolate(method='pchip')"
   ]
  },
  {
   "cell_type": "code",
   "execution_count": 5,
   "metadata": {},
   "outputs": [
    {
     "data": {
      "text/plain": [
       "Fecha               0\n",
       "Hora                0\n",
       "ESTACION_x          0\n",
       "HUMEDAD RELATIVA    0\n",
       "TEMPERATURA         0\n",
       "Año                 0\n",
       "Mes                 0\n",
       "Día                 0\n",
       "dtype: int64"
      ]
     },
     "execution_count": 5,
     "metadata": {},
     "output_type": "execute_result"
    }
   ],
   "source": [
    "df_filled.isna().sum()"
   ]
  },
  {
   "cell_type": "code",
   "execution_count": 6,
   "metadata": {},
   "outputs": [],
   "source": [
    "#df_filled.drop(columns=['Día', 'Mes', 'Año'], inplace=True)\n",
    "\n",
    "df_filled.rename(columns={\n",
    "    'ESTACION_x': 'indicativo',\n",
    "    'Fecha': 'fecha',\n",
    "    'Día': 'dia', \n",
    "    'Mes': 'mes',\n",
    "    'Año': 'anho',\n",
    "    'Hora': 'hora',\n",
    "    'HUMEDAD RELATIVA': 'humedad_media',\n",
    "    'TEMPERATURA': 'temperatura_media'\n",
    "}, inplace=True)"
   ]
  },
  {
   "cell_type": "code",
   "execution_count": 7,
   "metadata": {},
   "outputs": [],
   "source": [
    "df_filled.to_csv('../../../data/transformed/madrid_data/transformed_data.csv', index=False)"
   ]
  },
  {
   "cell_type": "markdown",
   "metadata": {},
   "source": [
    "# SPARK"
   ]
  },
  {
   "cell_type": "code",
   "execution_count": null,
   "metadata": {},
   "outputs": [],
   "source": [
    "from pyspark.sql import SparkSession\n",
    "import pyspark.sql.functions as F\n",
    "import os\n",
    "spark = SparkSession.builder \\\n",
    "    .appName('Transformacion Datos Spark') \\\n",
    "    .getOrCreate()\n",
    "\n",
    "sc = spark.sparkContext"
   ]
  },
  {
   "cell_type": "code",
   "execution_count": null,
   "metadata": {},
   "outputs": [],
   "source": [
    "df_horario = spark.read.option(\"delimiter\", \",\").option(\"header\", True).csv('../../../data/transformed/madrid_data/transformed_data.csv')"
   ]
  },
  {
   "cell_type": "code",
   "execution_count": null,
   "metadata": {},
   "outputs": [],
   "source": [
    "df_horario.write.format(\"parquet\").partitionBy(\"indicativo\",\"tipo_dato\",\"anio\",\"mes\").mode(\"overwrite\").save('../../../data/transformed/madrid_data/')\n",
    "print(\"finished\")"
   ]
  }
 ],
 "metadata": {
  "kernelspec": {
   "display_name": "iabd_scraping_env",
   "language": "python",
   "name": "python3"
  },
  "language_info": {
   "codemirror_mode": {
    "name": "ipython",
    "version": 3
   },
   "file_extension": ".py",
   "mimetype": "text/x-python",
   "name": "python",
   "nbconvert_exporter": "python",
   "pygments_lexer": "ipython3",
   "version": "3.11.10"
  }
 },
 "nbformat": 4,
 "nbformat_minor": 2
}
