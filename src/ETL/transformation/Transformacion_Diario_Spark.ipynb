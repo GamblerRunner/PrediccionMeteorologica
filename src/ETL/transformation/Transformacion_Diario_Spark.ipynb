{
 "cells": [
  {
   "cell_type": "code",
   "execution_count": 8,
   "id": "527971d5-c4f0-42ce-9db5-6f41789d5505",
   "metadata": {},
   "outputs": [],
   "source": [
    "from pyspark.sql import SparkSession\n",
    "import pyspark.sql.functions as F\n",
    "import os\n",
    "import numpy as np\n",
    "spark = SparkSession.builder \\\n",
    "    .appName('Homogenizar datos') \\\n",
    "    .getOrCreate()\n",
    "\n",
    "sc = spark.sparkContext"
   ]
  },
  {
   "cell_type": "code",
   "execution_count": 3,
   "id": "0d588513-b891-4bf5-a6fb-7b67f1116f5f",
   "metadata": {},
   "outputs": [
    {
     "name": "stdout",
     "output_type": "stream",
     "text": [
      "+----------+------------+-------------------+------------------+----+---+\n",
      "|     fecha|       value|         indicativo|         tipo_dato|anio|mes|\n",
      "+----------+------------+-------------------+------------------+----+---+\n",
      "|2022-01-01|   6.2809997|ESMAD2800000028240A|temperatura_minima|2022|  1|\n",
      "|2022-01-02|       5.731|ESMAD2800000028240A|temperatura_minima|2022|  1|\n",
      "|2022-01-03|       4.381|ESMAD2800000028240A|temperatura_minima|2022|  1|\n",
      "|2022-01-04|   3.2810001|ESMAD2800000028240A|temperatura_minima|2022|  1|\n",
      "|2022-01-05|   2.2810001|ESMAD2800000028240A|temperatura_minima|2022|  1|\n",
      "|2022-01-06|      -0.319|ESMAD2800000028240A|temperatura_minima|2022|  1|\n",
      "|2022-01-07|  0.98099995|ESMAD2800000028240A|temperatura_minima|2022|  1|\n",
      "|2022-01-08|-0.018999994|ESMAD2800000028240A|temperatura_minima|2022|  1|\n",
      "|2022-01-09|       2.381|ESMAD2800000028240A|temperatura_minima|2022|  1|\n",
      "|2022-01-10|   5.7809997|ESMAD2800000028240A|temperatura_minima|2022|  1|\n",
      "|2022-01-11|       5.581|ESMAD2800000028240A|temperatura_minima|2022|  1|\n",
      "|2022-01-12|   1.3809999|ESMAD2800000028240A|temperatura_minima|2022|  1|\n",
      "|2022-01-13|      -0.219|ESMAD2800000028240A|temperatura_minima|2022|  1|\n",
      "|2022-01-14|      -1.269|ESMAD2800000028240A|temperatura_minima|2022|  1|\n",
      "|2022-01-15|      -1.419|ESMAD2800000028240A|temperatura_minima|2022|  1|\n",
      "|2022-01-16|      -1.469|ESMAD2800000028240A|temperatura_minima|2022|  1|\n",
      "|2022-01-17|      -0.069|ESMAD2800000028240A|temperatura_minima|2022|  1|\n",
      "|2022-01-18|  0.43100002|ESMAD2800000028240A|temperatura_minima|2022|  1|\n",
      "|2022-01-19|       1.081|ESMAD2800000028240A|temperatura_minima|2022|  1|\n",
      "|2022-01-20|      -1.419|ESMAD2800000028240A|temperatura_minima|2022|  1|\n",
      "+----------+------------+-------------------+------------------+----+---+\n",
      "only showing top 20 rows\n",
      "\n"
     ]
    }
   ],
   "source": [
    "spark = SparkSession.builder.appName(\"SeriesTemporales\").getOrCreate()\n",
    "# Leer archivo Parquet\n",
    "df = spark.read.parquet(\"../../../data/homogenized/diarios/\")\n",
    "# Mostrar datos\n",
    "df.show()"
   ]
  },
  {
   "cell_type": "code",
   "execution_count": 4,
   "id": "00a64f67-302b-4936-8110-7081f41c631f",
   "metadata": {},
   "outputs": [],
   "source": [
    "df = df.withColumn(\"dia\", F.day(df[\"fecha\"]))"
   ]
  },
  {
   "cell_type": "code",
   "execution_count": 14,
   "id": "37f3a8b3-d9c0-4475-8271-d9f8e07b4655",
   "metadata": {},
   "outputs": [],
   "source": [
    "df = df.withColumn(\"sin_dia\", F.sin(2 * F.pi() * F.col(\"dia\") / 7)) \\\n",
    "       .withColumn(\"cos_dia\", F.cos(2 * F.pi() * F.col(\"dia\") / 7))\n",
    "\n",
    "df = df.withColumn(\"sin_mes\", F.sin(2 * F.pi() * F.col(\"mes\") / 12)) \\\n",
    "       .withColumn(\"cos_mes\", F.cos(2 * F.pi() * F.col(\"mes\") / 12))"
   ]
  },
  {
   "cell_type": "code",
   "execution_count": 16,
   "id": "4bcd452f-9216-4609-9f7a-14e89a50b7fd",
   "metadata": {},
   "outputs": [
    {
     "name": "stdout",
     "output_type": "stream",
     "text": [
      "finished\n"
     ]
    }
   ],
   "source": [
    "df.write.format(\"parquet\").partitionBy(\"indicativo\",\"tipo_dato\",\"anio\").mode(\"overwrite\").save(\"../../../data/transformed/diarios/\")\n",
    "print(\"finished\")"
   ]
  }
 ],
 "metadata": {
  "kernelspec": {
   "display_name": "Python 3 (ipykernel)",
   "language": "python",
   "name": "python3"
  },
  "language_info": {
   "codemirror_mode": {
    "name": "ipython",
    "version": 3
   },
   "file_extension": ".py",
   "mimetype": "text/x-python",
   "name": "python",
   "nbconvert_exporter": "python",
   "pygments_lexer": "ipython3",
   "version": "3.12.8"
  }
 },
 "nbformat": 4,
 "nbformat_minor": 5
}
