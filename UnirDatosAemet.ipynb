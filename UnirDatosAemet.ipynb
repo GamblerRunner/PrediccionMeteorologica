{
 "cells": [
  {
   "cell_type": "markdown",
   "metadata": {},
   "source": [
    "# Juntar datos de aemet\n"
   ]
  },
  {
   "cell_type": "code",
   "execution_count": null,
   "metadata": {},
   "outputs": [],
   "source": [
    "import pandas as pd\n",
    "import glob"
   ]
  },
  {
   "cell_type": "code",
   "execution_count": null,
   "metadata": {},
   "outputs": [],
   "source": [
    "\n",
    "# Obtener todos los archivos CSV en una carpeta\n",
    "archivos = glob.glob(\"ruta/a/archivos/*.csv\")\n",
    "\n",
    "# Leer y concatenar todos los archivos\n",
    "df = pd.concat([pd.read_csv(f) for f in archivos])\n",
    "\n",
    "# Opcional: Ordenar por fecha si hay una columna de tiempo\n",
    "df = df.sort_values(by=\"fecha\")"
   ]
  }
 ],
 "metadata": {
  "kernelspec": {
   "display_name": "Python 3",
   "language": "python",
   "name": "python3"
  },
  "language_info": {
   "name": "python",
   "version": "3.13.0"
  }
 },
 "nbformat": 4,
 "nbformat_minor": 2
}
